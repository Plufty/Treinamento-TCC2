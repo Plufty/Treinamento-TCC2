{
 "cells": [
  {
   "cell_type": "code",
   "execution_count": 1,
   "id": "fddaac74",
   "metadata": {},
   "outputs": [],
   "source": [
    "import os\n",
    "import torch\n",
    "import torchvision\n",
    "import time\n",
    "from torch import nn, optim\n",
    "from torchvision import datasets, transforms, models\n",
    "from tqdm import tqdm\n",
    "from efficientnet_pytorch import EfficientNet\n",
    "\n",
    "#Importando meus Scripts\n",
    "import BcelAdam\n",
    "import BcelSgd\n",
    "import CelAdam\n",
    "import CelSgd"
   ]
  },
  {
   "cell_type": "markdown",
   "id": "a81b256a",
   "metadata": {},
   "source": [
    "# Biglycan"
   ]
  },
  {
   "cell_type": "markdown",
   "id": "5a6c1849",
   "metadata": {},
   "source": [
    "## 0.0001"
   ]
  },
  {
   "cell_type": "code",
   "execution_count": null,
   "id": "235bd2be",
   "metadata": {
    "scrolled": false
   },
   "outputs": [
    {
     "name": "stderr",
     "output_type": "stream",
     "text": [
      "C:\\Users\\Plufty\\anaconda3\\envs\\torch\\lib\\site-packages\\torchvision\\models\\_utils.py:208: UserWarning: The parameter 'pretrained' is deprecated since 0.13 and may be removed in the future, please use 'weights' instead.\n",
      "  warnings.warn(\n",
      "C:\\Users\\Plufty\\anaconda3\\envs\\torch\\lib\\site-packages\\torchvision\\models\\_utils.py:223: UserWarning: Arguments other than a weight enum or `None` for 'weights' are deprecated since 0.13 and may be removed in the future. The current behavior is equivalent to passing `weights=AlexNet_Weights.IMAGENET1K_V1`. You can also use `weights=AlexNet_Weights.DEFAULT` to get the most up-to-date weights.\n",
      "  warnings.warn(msg)\n"
     ]
    },
    {
     "name": "stdout",
     "output_type": "stream",
     "text": [
      "Loaded pretrained weights for efficientnet-b0\n"
     ]
    },
    {
     "name": "stderr",
     "output_type": "stream",
     "text": [
      "C:\\Users\\Plufty\\anaconda3\\envs\\torch\\lib\\site-packages\\torchvision\\models\\_utils.py:223: UserWarning: Arguments other than a weight enum or `None` for 'weights' are deprecated since 0.13 and may be removed in the future. The current behavior is equivalent to passing `weights=ResNet50_Weights.IMAGENET1K_V1`. You can also use `weights=ResNet50_Weights.DEFAULT` to get the most up-to-date weights.\n",
      "  warnings.warn(msg)\n",
      "C:\\Users\\Plufty\\anaconda3\\envs\\torch\\lib\\site-packages\\torchvision\\models\\_utils.py:223: UserWarning: Arguments other than a weight enum or `None` for 'weights' are deprecated since 0.13 and may be removed in the future. The current behavior is equivalent to passing `weights=ShuffleNet_V2_X1_0_Weights.IMAGENET1K_V1`. You can also use `weights=ShuffleNet_V2_X1_0_Weights.DEFAULT` to get the most up-to-date weights.\n",
      "  warnings.warn(msg)\n",
      "C:\\Users\\Plufty\\anaconda3\\envs\\torch\\lib\\site-packages\\torchvision\\models\\_utils.py:223: UserWarning: Arguments other than a weight enum or `None` for 'weights' are deprecated since 0.13 and may be removed in the future. The current behavior is equivalent to passing `weights=SqueezeNet1_0_Weights.IMAGENET1K_V1`. You can also use `weights=SqueezeNet1_0_Weights.DEFAULT` to get the most up-to-date weights.\n",
      "  warnings.warn(msg)\n",
      "C:\\Users\\Plufty\\anaconda3\\envs\\torch\\lib\\site-packages\\torchvision\\models\\_utils.py:223: UserWarning: Arguments other than a weight enum or `None` for 'weights' are deprecated since 0.13 and may be removed in the future. The current behavior is equivalent to passing `weights=VGG16_Weights.IMAGENET1K_V1`. You can also use `weights=VGG16_Weights.DEFAULT` to get the most up-to-date weights.\n",
      "  warnings.warn(msg)\n",
      "  3%|██▊                                                                                | 1/30 [00:09<04:30,  9.32s/it]"
     ]
    },
    {
     "name": "stdout",
     "output_type": "stream",
     "text": [
      "Epoch [1], epoch time: 9.318 s, train loss: 0.674, val loss: 0.695, train accuracy: 51.887 %, val accuracy: 46.154 %\n"
     ]
    },
    {
     "name": "stderr",
     "output_type": "stream",
     "text": [
      "\r",
      "  7%|█████▌                                                                             | 2/30 [00:16<03:47,  8.11s/it]"
     ]
    },
    {
     "name": "stdout",
     "output_type": "stream",
     "text": [
      "Epoch [2], epoch time: 7.272 s, train loss: 0.604, val loss: 0.753, train accuracy: 41.981 %, val accuracy: 61.538 %\n"
     ]
    },
    {
     "name": "stderr",
     "output_type": "stream",
     "text": [
      "\r",
      " 10%|████████▎                                                                          | 3/30 [00:23<03:27,  7.69s/it]"
     ]
    },
    {
     "name": "stdout",
     "output_type": "stream",
     "text": [
      "Epoch [3], epoch time: 7.189 s, train loss: 0.529, val loss: 0.704, train accuracy: 43.868 %, val accuracy: 34.615 %\n"
     ]
    },
    {
     "name": "stderr",
     "output_type": "stream",
     "text": [
      "\r",
      " 13%|███████████                                                                        | 4/30 [00:31<03:15,  7.52s/it]"
     ]
    },
    {
     "name": "stdout",
     "output_type": "stream",
     "text": [
      "Epoch [4], epoch time: 7.267 s, train loss: 0.394, val loss: 0.595, train accuracy: 52.358 %, val accuracy: 34.615 %\n"
     ]
    },
    {
     "name": "stderr",
     "output_type": "stream",
     "text": [
      "\r",
      " 17%|█████████████▊                                                                     | 5/30 [00:38<03:05,  7.40s/it]"
     ]
    },
    {
     "name": "stdout",
     "output_type": "stream",
     "text": [
      "Epoch [5], epoch time: 7.186 s, train loss: 0.473, val loss: 0.667, train accuracy: 49.057 %, val accuracy: 73.077 %\n"
     ]
    },
    {
     "name": "stderr",
     "output_type": "stream",
     "text": [
      "\r",
      " 20%|████████████████▌                                                                  | 6/30 [00:45<02:56,  7.34s/it]"
     ]
    },
    {
     "name": "stdout",
     "output_type": "stream",
     "text": [
      "Epoch [6], epoch time: 7.222 s, train loss: 0.459, val loss: 0.933, train accuracy: 57.547 %, val accuracy: 57.692 %\n"
     ]
    },
    {
     "name": "stderr",
     "output_type": "stream",
     "text": [
      "\r",
      " 23%|███████████████████▎                                                               | 7/30 [00:52<02:48,  7.33s/it]"
     ]
    },
    {
     "name": "stdout",
     "output_type": "stream",
     "text": [
      "Epoch [7], epoch time: 7.311 s, train loss: 0.379, val loss: 0.690, train accuracy: 40.094 %, val accuracy: 50.000 %\n"
     ]
    },
    {
     "name": "stderr",
     "output_type": "stream",
     "text": [
      "\r",
      " 27%|██████████████████████▏                                                            | 8/30 [01:00<02:40,  7.31s/it]"
     ]
    },
    {
     "name": "stdout",
     "output_type": "stream",
     "text": [
      "Epoch [8], epoch time: 7.262 s, train loss: 0.413, val loss: 0.637, train accuracy: 49.528 %, val accuracy: 46.154 %\n"
     ]
    },
    {
     "name": "stderr",
     "output_type": "stream",
     "text": [
      "\r",
      " 30%|████████████████████████▉                                                          | 9/30 [01:07<02:33,  7.29s/it]"
     ]
    },
    {
     "name": "stdout",
     "output_type": "stream",
     "text": [
      "Epoch [9], epoch time: 7.248 s, train loss: 0.399, val loss: 0.726, train accuracy: 47.642 %, val accuracy: 57.692 %\n"
     ]
    },
    {
     "name": "stderr",
     "output_type": "stream",
     "text": [
      "\r",
      " 33%|███████████████████████████▎                                                      | 10/30 [01:14<02:27,  7.36s/it]"
     ]
    },
    {
     "name": "stdout",
     "output_type": "stream",
     "text": [
      "Epoch [10], epoch time: 7.501 s, train loss: 0.553, val loss: 0.703, train accuracy: 44.811 %, val accuracy: 30.769 %\n"
     ]
    },
    {
     "name": "stderr",
     "output_type": "stream",
     "text": [
      "\r",
      " 37%|██████████████████████████████                                                    | 11/30 [01:22<02:19,  7.36s/it]"
     ]
    },
    {
     "name": "stdout",
     "output_type": "stream",
     "text": [
      "Epoch [11], epoch time: 7.379 s, train loss: 0.512, val loss: 0.848, train accuracy: 39.623 %, val accuracy: 26.923 %\n"
     ]
    },
    {
     "name": "stderr",
     "output_type": "stream",
     "text": [
      "\r",
      " 40%|████████████████████████████████▊                                                 | 12/30 [01:29<02:12,  7.36s/it]"
     ]
    },
    {
     "name": "stdout",
     "output_type": "stream",
     "text": [
      "Epoch [12], epoch time: 7.352 s, train loss: 0.353, val loss: 1.067, train accuracy: 50.472 %, val accuracy: 57.692 %\n"
     ]
    },
    {
     "name": "stderr",
     "output_type": "stream",
     "text": [
      "\r",
      " 43%|███████████████████████████████████▌                                              | 13/30 [01:36<02:04,  7.34s/it]"
     ]
    },
    {
     "name": "stdout",
     "output_type": "stream",
     "text": [
      "Epoch [13], epoch time: 7.288 s, train loss: 0.337, val loss: 0.646, train accuracy: 49.528 %, val accuracy: 53.846 %\n"
     ]
    },
    {
     "name": "stderr",
     "output_type": "stream",
     "text": [
      "\r",
      " 47%|██████████████████████████████████████▎                                           | 14/30 [01:44<01:56,  7.31s/it]"
     ]
    },
    {
     "name": "stdout",
     "output_type": "stream",
     "text": [
      "Epoch [14], epoch time: 7.247 s, train loss: 0.485, val loss: 0.409, train accuracy: 49.528 %, val accuracy: 34.615 %\n"
     ]
    },
    {
     "name": "stderr",
     "output_type": "stream",
     "text": [
      "\r",
      " 50%|█████████████████████████████████████████                                         | 15/30 [01:51<01:49,  7.29s/it]"
     ]
    },
    {
     "name": "stdout",
     "output_type": "stream",
     "text": [
      "Epoch [15], epoch time: 7.230 s, train loss: 0.428, val loss: 0.969, train accuracy: 47.642 %, val accuracy: 69.231 %\n"
     ]
    },
    {
     "name": "stderr",
     "output_type": "stream",
     "text": [
      "\r",
      " 53%|███████████████████████████████████████████▋                                      | 16/30 [01:58<01:41,  7.27s/it]"
     ]
    },
    {
     "name": "stdout",
     "output_type": "stream",
     "text": [
      "Epoch [16], epoch time: 7.239 s, train loss: 0.521, val loss: 0.582, train accuracy: 49.057 %, val accuracy: 69.231 %\n"
     ]
    },
    {
     "name": "stderr",
     "output_type": "stream",
     "text": [
      "\r",
      " 57%|██████████████████████████████████████████████▍                                   | 17/30 [02:05<01:34,  7.26s/it]"
     ]
    },
    {
     "name": "stdout",
     "output_type": "stream",
     "text": [
      "Epoch [17], epoch time: 7.238 s, train loss: 0.419, val loss: 0.656, train accuracy: 45.755 %, val accuracy: 42.308 %\n"
     ]
    },
    {
     "name": "stderr",
     "output_type": "stream",
     "text": [
      "\r",
      " 60%|█████████████████████████████████████████████████▏                                | 18/30 [02:12<01:27,  7.25s/it]"
     ]
    },
    {
     "name": "stdout",
     "output_type": "stream",
     "text": [
      "Epoch [18], epoch time: 7.233 s, train loss: 0.339, val loss: 0.549, train accuracy: 48.113 %, val accuracy: 34.615 %\n"
     ]
    },
    {
     "name": "stderr",
     "output_type": "stream",
     "text": [
      "\r",
      " 63%|███████████████████████████████████████████████████▉                              | 19/30 [02:20<01:19,  7.24s/it]"
     ]
    },
    {
     "name": "stdout",
     "output_type": "stream",
     "text": [
      "Epoch [19], epoch time: 7.222 s, train loss: 0.337, val loss: 0.592, train accuracy: 42.453 %, val accuracy: 26.923 %\n"
     ]
    },
    {
     "name": "stderr",
     "output_type": "stream",
     "text": [
      "\r",
      " 67%|██████████████████████████████████████████████████████▋                           | 20/30 [02:27<01:13,  7.32s/it]"
     ]
    },
    {
     "name": "stdout",
     "output_type": "stream",
     "text": [
      "Epoch [20], epoch time: 7.495 s, train loss: 0.357, val loss: 1.102, train accuracy: 41.509 %, val accuracy: 53.846 %\n"
     ]
    },
    {
     "name": "stderr",
     "output_type": "stream",
     "text": [
      "\r",
      " 70%|█████████████████████████████████████████████████████████▍                        | 21/30 [02:35<01:06,  7.34s/it]"
     ]
    },
    {
     "name": "stdout",
     "output_type": "stream",
     "text": [
      "Epoch [21], epoch time: 7.376 s, train loss: 0.364, val loss: 0.508, train accuracy: 48.113 %, val accuracy: 53.846 %\n"
     ]
    },
    {
     "name": "stderr",
     "output_type": "stream",
     "text": [
      "\r",
      " 73%|████████████████████████████████████████████████████████████▏                     | 22/30 [02:42<00:59,  7.39s/it]"
     ]
    },
    {
     "name": "stdout",
     "output_type": "stream",
     "text": [
      "Epoch [22], epoch time: 7.521 s, train loss: 0.309, val loss: 0.914, train accuracy: 47.642 %, val accuracy: 42.308 %\n"
     ]
    },
    {
     "name": "stderr",
     "output_type": "stream",
     "text": [
      "\r",
      " 77%|██████████████████████████████████████████████████████████████▊                   | 23/30 [02:50<00:51,  7.40s/it]"
     ]
    },
    {
     "name": "stdout",
     "output_type": "stream",
     "text": [
      "Epoch [23], epoch time: 7.421 s, train loss: 0.296, val loss: 0.797, train accuracy: 50.000 %, val accuracy: 34.615 %\n"
     ]
    },
    {
     "name": "stderr",
     "output_type": "stream",
     "text": [
      "\r",
      " 80%|█████████████████████████████████████████████████████████████████▌                | 24/30 [02:57<00:44,  7.41s/it]"
     ]
    },
    {
     "name": "stdout",
     "output_type": "stream",
     "text": [
      "Epoch [24], epoch time: 7.423 s, train loss: 0.269, val loss: 0.579, train accuracy: 42.925 %, val accuracy: 38.462 %\n"
     ]
    },
    {
     "name": "stderr",
     "output_type": "stream",
     "text": [
      "\r",
      " 83%|████████████████████████████████████████████████████████████████████▎             | 25/30 [03:04<00:36,  7.39s/it]"
     ]
    },
    {
     "name": "stdout",
     "output_type": "stream",
     "text": [
      "Epoch [25], epoch time: 7.348 s, train loss: 0.626, val loss: 0.641, train accuracy: 54.245 %, val accuracy: 38.462 %\n"
     ]
    },
    {
     "name": "stderr",
     "output_type": "stream",
     "text": [
      "\r",
      " 87%|███████████████████████████████████████████████████████████████████████           | 26/30 [03:12<00:29,  7.35s/it]"
     ]
    },
    {
     "name": "stdout",
     "output_type": "stream",
     "text": [
      "Epoch [26], epoch time: 7.252 s, train loss: 0.456, val loss: 0.875, train accuracy: 51.887 %, val accuracy: 38.462 %\n"
     ]
    },
    {
     "name": "stderr",
     "output_type": "stream",
     "text": [
      "\r",
      " 90%|█████████████████████████████████████████████████████████████████████████▊        | 27/30 [03:19<00:21,  7.31s/it]"
     ]
    },
    {
     "name": "stdout",
     "output_type": "stream",
     "text": [
      "Epoch [27], epoch time: 7.233 s, train loss: 0.433, val loss: 0.519, train accuracy: 38.208 %, val accuracy: 53.846 %\n"
     ]
    },
    {
     "name": "stderr",
     "output_type": "stream",
     "text": [
      "\r",
      " 93%|████████████████████████████████████████████████████████████████████████████▌     | 28/30 [03:26<00:14,  7.31s/it]"
     ]
    },
    {
     "name": "stdout",
     "output_type": "stream",
     "text": [
      "Epoch [28], epoch time: 7.310 s, train loss: 0.492, val loss: 0.811, train accuracy: 45.755 %, val accuracy: 38.462 %\n"
     ]
    },
    {
     "name": "stderr",
     "output_type": "stream",
     "text": [
      "\r",
      " 97%|███████████████████████████████████████████████████████████████████████████████▎  | 29/30 [03:33<00:07,  7.29s/it]"
     ]
    },
    {
     "name": "stdout",
     "output_type": "stream",
     "text": [
      "Epoch [29], epoch time: 7.236 s, train loss: 0.272, val loss: 0.822, train accuracy: 41.981 %, val accuracy: 30.769 %\n"
     ]
    },
    {
     "name": "stderr",
     "output_type": "stream",
     "text": [
      "100%|██████████████████████████████████████████████████████████████████████████████████| 30/30 [03:41<00:00,  7.38s/it]\n"
     ]
    },
    {
     "name": "stdout",
     "output_type": "stream",
     "text": [
      "Epoch [30], epoch time: 7.488 s, train loss: 0.289, val loss: 0.697, train accuracy: 38.679 %, val accuracy: 34.615 %\n",
      "Time [221.333] seconds or [3.689] minutes\n"
     ]
    },
    {
     "name": "stderr",
     "output_type": "stream",
     "text": [
      "  3%|██▊                                                                                | 1/30 [00:09<04:29,  9.28s/it]"
     ]
    },
    {
     "name": "stdout",
     "output_type": "stream",
     "text": [
      "Epoch [1], epoch time: 9.285 s, train loss: 0.669, val loss: 0.687, train accuracy: 46.226 %, val accuracy: 57.692 %\n"
     ]
    },
    {
     "name": "stderr",
     "output_type": "stream",
     "text": [
      "\r",
      "  7%|█████▌                                                                             | 2/30 [00:17<04:10,  8.94s/it]"
     ]
    },
    {
     "name": "stdout",
     "output_type": "stream",
     "text": [
      "Epoch [2], epoch time: 8.696 s, train loss: 0.576, val loss: 0.649, train accuracy: 53.302 %, val accuracy: 38.462 %\n"
     ]
    },
    {
     "name": "stderr",
     "output_type": "stream",
     "text": [
      "\r",
      " 10%|████████▎                                                                          | 3/30 [00:26<03:58,  8.82s/it]"
     ]
    },
    {
     "name": "stdout",
     "output_type": "stream",
     "text": [
      "Epoch [3], epoch time: 8.674 s, train loss: 0.476, val loss: 0.744, train accuracy: 46.698 %, val accuracy: 42.308 %\n"
     ]
    },
    {
     "name": "stderr",
     "output_type": "stream",
     "text": [
      "\r",
      " 13%|███████████                                                                        | 4/30 [00:35<03:49,  8.83s/it]"
     ]
    },
    {
     "name": "stdout",
     "output_type": "stream",
     "text": [
      "Epoch [4], epoch time: 8.848 s, train loss: 0.442, val loss: 0.717, train accuracy: 48.585 %, val accuracy: 38.462 %\n"
     ]
    },
    {
     "name": "stderr",
     "output_type": "stream",
     "text": [
      "\r",
      " 17%|█████████████▊                                                                     | 5/30 [00:44<03:39,  8.77s/it]"
     ]
    },
    {
     "name": "stdout",
     "output_type": "stream",
     "text": [
      "Epoch [5], epoch time: 8.674 s, train loss: 0.397, val loss: 0.802, train accuracy: 43.868 %, val accuracy: 30.769 %\n"
     ]
    },
    {
     "name": "stderr",
     "output_type": "stream",
     "text": [
      "\r",
      " 20%|████████████████▌                                                                  | 6/30 [00:52<03:29,  8.75s/it]"
     ]
    },
    {
     "name": "stdout",
     "output_type": "stream",
     "text": [
      "Epoch [6], epoch time: 8.688 s, train loss: 0.410, val loss: 0.729, train accuracy: 48.113 %, val accuracy: 34.615 %\n"
     ]
    },
    {
     "name": "stderr",
     "output_type": "stream",
     "text": [
      "\r",
      " 23%|███████████████████▎                                                               | 7/30 [01:01<03:21,  8.77s/it]"
     ]
    },
    {
     "name": "stdout",
     "output_type": "stream",
     "text": [
      "Epoch [7], epoch time: 8.809 s, train loss: 0.395, val loss: 0.804, train accuracy: 48.585 %, val accuracy: 46.154 %\n"
     ]
    },
    {
     "name": "stderr",
     "output_type": "stream",
     "text": [
      "\r",
      " 27%|██████████████████████▏                                                            | 8/30 [01:10<03:12,  8.73s/it]"
     ]
    },
    {
     "name": "stdout",
     "output_type": "stream",
     "text": [
      "Epoch [8], epoch time: 8.657 s, train loss: 0.319, val loss: 0.711, train accuracy: 55.189 %, val accuracy: 42.308 %\n"
     ]
    },
    {
     "name": "stderr",
     "output_type": "stream",
     "text": [
      "\r",
      " 30%|████████████████████████▉                                                          | 9/30 [01:19<03:04,  8.77s/it]"
     ]
    },
    {
     "name": "stdout",
     "output_type": "stream",
     "text": [
      "Epoch [9], epoch time: 8.864 s, train loss: 0.371, val loss: 0.515, train accuracy: 54.245 %, val accuracy: 57.692 %\n"
     ]
    },
    {
     "name": "stderr",
     "output_type": "stream",
     "text": [
      "\r",
      " 33%|███████████████████████████▎                                                      | 10/30 [01:28<02:55,  8.78s/it]"
     ]
    },
    {
     "name": "stdout",
     "output_type": "stream",
     "text": [
      "Epoch [10], epoch time: 8.807 s, train loss: 0.350, val loss: 0.955, train accuracy: 50.943 %, val accuracy: 50.000 %\n"
     ]
    },
    {
     "name": "stderr",
     "output_type": "stream",
     "text": [
      "\r",
      " 37%|██████████████████████████████                                                    | 11/30 [01:36<02:45,  8.73s/it]"
     ]
    },
    {
     "name": "stdout",
     "output_type": "stream",
     "text": [
      "Epoch [11], epoch time: 8.606 s, train loss: 0.299, val loss: 0.723, train accuracy: 54.717 %, val accuracy: 46.154 %\n"
     ]
    },
    {
     "name": "stderr",
     "output_type": "stream",
     "text": [
      "\r",
      " 40%|████████████████████████████████▊                                                 | 12/30 [01:45<02:36,  8.72s/it]"
     ]
    },
    {
     "name": "stdout",
     "output_type": "stream",
     "text": [
      "Epoch [12], epoch time: 8.699 s, train loss: 0.327, val loss: 0.720, train accuracy: 46.226 %, val accuracy: 38.462 %\n"
     ]
    },
    {
     "name": "stderr",
     "output_type": "stream",
     "text": [
      "\r",
      " 43%|███████████████████████████████████▌                                              | 13/30 [01:54<02:30,  8.88s/it]"
     ]
    },
    {
     "name": "stdout",
     "output_type": "stream",
     "text": [
      "Epoch [13], epoch time: 9.244 s, train loss: 0.360, val loss: 0.921, train accuracy: 49.057 %, val accuracy: 30.769 %\n"
     ]
    },
    {
     "name": "stderr",
     "output_type": "stream",
     "text": [
      "\r",
      " 47%|██████████████████████████████████████▎                                           | 14/30 [02:04<02:27,  9.22s/it]"
     ]
    },
    {
     "name": "stdout",
     "output_type": "stream",
     "text": [
      "Epoch [14], epoch time: 10.002 s, train loss: 0.336, val loss: 0.764, train accuracy: 45.755 %, val accuracy: 46.154 %\n"
     ]
    },
    {
     "name": "stderr",
     "output_type": "stream",
     "text": [
      "\r",
      " 50%|█████████████████████████████████████████                                         | 15/30 [02:13<02:19,  9.27s/it]"
     ]
    },
    {
     "name": "stdout",
     "output_type": "stream",
     "text": [
      "Epoch [15], epoch time: 9.385 s, train loss: 0.254, val loss: 0.956, train accuracy: 45.283 %, val accuracy: 38.462 %\n"
     ]
    },
    {
     "name": "stderr",
     "output_type": "stream",
     "text": [
      "\r",
      " 53%|███████████████████████████████████████████▋                                      | 16/30 [02:22<02:07,  9.12s/it]"
     ]
    },
    {
     "name": "stdout",
     "output_type": "stream",
     "text": [
      "Epoch [16], epoch time: 8.774 s, train loss: 0.300, val loss: 1.114, train accuracy: 49.057 %, val accuracy: 50.000 %\n"
     ]
    },
    {
     "name": "stderr",
     "output_type": "stream",
     "text": [
      "\r",
      " 57%|██████████████████████████████████████████████▍                                   | 17/30 [02:31<01:56,  8.99s/it]"
     ]
    },
    {
     "name": "stdout",
     "output_type": "stream",
     "text": [
      "Epoch [17], epoch time: 8.678 s, train loss: 0.298, val loss: 1.131, train accuracy: 46.698 %, val accuracy: 42.308 %\n"
     ]
    },
    {
     "name": "stderr",
     "output_type": "stream",
     "text": [
      "\r",
      " 60%|█████████████████████████████████████████████████▏                                | 18/30 [02:39<01:46,  8.87s/it]"
     ]
    },
    {
     "name": "stdout",
     "output_type": "stream",
     "text": [
      "Epoch [18], epoch time: 8.581 s, train loss: 0.261, val loss: 0.745, train accuracy: 47.170 %, val accuracy: 46.154 %\n"
     ]
    },
    {
     "name": "stderr",
     "output_type": "stream",
     "text": [
      "\r",
      " 63%|███████████████████████████████████████████████████▉                              | 19/30 [02:48<01:37,  8.82s/it]"
     ]
    },
    {
     "name": "stdout",
     "output_type": "stream",
     "text": [
      "Epoch [19], epoch time: 8.728 s, train loss: 0.225, val loss: 0.647, train accuracy: 47.642 %, val accuracy: 50.000 %\n"
     ]
    },
    {
     "name": "stderr",
     "output_type": "stream",
     "text": [
      "\r",
      " 67%|██████████████████████████████████████████████████████▋                           | 20/30 [02:57<01:28,  8.83s/it]"
     ]
    },
    {
     "name": "stdout",
     "output_type": "stream",
     "text": [
      "Epoch [20], epoch time: 8.837 s, train loss: 0.232, val loss: 0.646, train accuracy: 47.642 %, val accuracy: 26.923 %\n"
     ]
    },
    {
     "name": "stderr",
     "output_type": "stream",
     "text": [
      "\r",
      " 70%|█████████████████████████████████████████████████████████▍                        | 21/30 [03:06<01:19,  8.85s/it]"
     ]
    },
    {
     "name": "stdout",
     "output_type": "stream",
     "text": [
      "Epoch [21], epoch time: 8.910 s, train loss: 0.290, val loss: 0.541, train accuracy: 49.057 %, val accuracy: 34.615 %\n"
     ]
    },
    {
     "name": "stderr",
     "output_type": "stream",
     "text": [
      "\r",
      " 73%|████████████████████████████████████████████████████████████▏                     | 22/30 [03:15<01:10,  8.84s/it]"
     ]
    },
    {
     "name": "stdout",
     "output_type": "stream",
     "text": [
      "Epoch [22], epoch time: 8.792 s, train loss: 0.168, val loss: 0.409, train accuracy: 48.113 %, val accuracy: 50.000 %\n"
     ]
    },
    {
     "name": "stderr",
     "output_type": "stream",
     "text": [
      "\r",
      " 77%|██████████████████████████████████████████████████████████████▊                   | 23/30 [03:24<01:01,  8.85s/it]"
     ]
    },
    {
     "name": "stdout",
     "output_type": "stream",
     "text": [
      "Epoch [23], epoch time: 8.873 s, train loss: 0.259, val loss: 0.892, train accuracy: 48.585 %, val accuracy: 46.154 %\n"
     ]
    },
    {
     "name": "stderr",
     "output_type": "stream",
     "text": [
      "\r",
      " 80%|█████████████████████████████████████████████████████████████████▌                | 24/30 [03:33<00:53,  8.86s/it]"
     ]
    },
    {
     "name": "stdout",
     "output_type": "stream",
     "text": [
      "Epoch [24], epoch time: 8.887 s, train loss: 0.233, val loss: 0.786, train accuracy: 52.830 %, val accuracy: 42.308 %\n"
     ]
    },
    {
     "name": "stderr",
     "output_type": "stream",
     "text": [
      "\r",
      " 83%|████████████████████████████████████████████████████████████████████▎             | 25/30 [03:41<00:44,  8.86s/it]"
     ]
    },
    {
     "name": "stdout",
     "output_type": "stream",
     "text": [
      "Epoch [25], epoch time: 8.865 s, train loss: 0.168, val loss: 0.644, train accuracy: 51.415 %, val accuracy: 50.000 %\n"
     ]
    },
    {
     "name": "stderr",
     "output_type": "stream",
     "text": [
      "\r",
      " 87%|███████████████████████████████████████████████████████████████████████           | 26/30 [03:50<00:35,  8.84s/it]"
     ]
    },
    {
     "name": "stdout",
     "output_type": "stream",
     "text": [
      "Epoch [26], epoch time: 8.780 s, train loss: 0.198, val loss: 0.855, train accuracy: 46.698 %, val accuracy: 53.846 %\n"
     ]
    },
    {
     "name": "stderr",
     "output_type": "stream",
     "text": [
      "\r",
      " 90%|█████████████████████████████████████████████████████████████████████████▊        | 27/30 [03:59<00:26,  8.85s/it]"
     ]
    },
    {
     "name": "stdout",
     "output_type": "stream",
     "text": [
      "Epoch [27], epoch time: 8.872 s, train loss: 0.293, val loss: 0.684, train accuracy: 50.943 %, val accuracy: 34.615 %\n"
     ]
    },
    {
     "name": "stderr",
     "output_type": "stream",
     "text": [
      "\r",
      " 93%|████████████████████████████████████████████████████████████████████████████▌     | 28/30 [04:08<00:17,  8.85s/it]"
     ]
    },
    {
     "name": "stdout",
     "output_type": "stream",
     "text": [
      "Epoch [28], epoch time: 8.859 s, train loss: 0.255, val loss: 0.614, train accuracy: 44.340 %, val accuracy: 50.000 %\n"
     ]
    },
    {
     "name": "stderr",
     "output_type": "stream",
     "text": [
      "\r",
      " 97%|███████████████████████████████████████████████████████████████████████████████▎  | 29/30 [04:17<00:08,  8.85s/it]"
     ]
    },
    {
     "name": "stdout",
     "output_type": "stream",
     "text": [
      "Epoch [29], epoch time: 8.829 s, train loss: 0.218, val loss: 0.726, train accuracy: 47.170 %, val accuracy: 53.846 %\n"
     ]
    },
    {
     "name": "stderr",
     "output_type": "stream",
     "text": [
      "100%|██████████████████████████████████████████████████████████████████████████████████| 30/30 [04:26<00:00,  8.87s/it]\n"
     ]
    },
    {
     "name": "stdout",
     "output_type": "stream",
     "text": [
      "Epoch [30], epoch time: 8.884 s, train loss: 0.160, val loss: 0.578, train accuracy: 48.585 %, val accuracy: 38.462 %\n",
      "Time [266.120] seconds or [4.435] minutes\n"
     ]
    },
    {
     "name": "stderr",
     "output_type": "stream",
     "text": [
      "  3%|██▊                                                                                | 1/30 [00:08<04:13,  8.73s/it]"
     ]
    },
    {
     "name": "stdout",
     "output_type": "stream",
     "text": [
      "Epoch [1], epoch time: 8.729 s, train loss: 0.510, val loss: 0.845, train accuracy: 48.585 %, val accuracy: 376.923 %\n"
     ]
    },
    {
     "name": "stderr",
     "output_type": "stream",
     "text": [
      "\r",
      "  7%|█████▌                                                                             | 2/30 [00:17<04:01,  8.62s/it]"
     ]
    },
    {
     "name": "stdout",
     "output_type": "stream",
     "text": [
      "Epoch [2], epoch time: 8.541 s, train loss: 0.412, val loss: 1.045, train accuracy: 48.585 %, val accuracy: 434.615 %\n"
     ]
    },
    {
     "name": "stderr",
     "output_type": "stream",
     "text": [
      "\r",
      " 10%|████████▎                                                                          | 3/30 [00:25<03:53,  8.64s/it]"
     ]
    },
    {
     "name": "stdout",
     "output_type": "stream",
     "text": [
      "Epoch [3], epoch time: 8.660 s, train loss: 0.469, val loss: 0.911, train accuracy: 57.075 %, val accuracy: 446.154 %\n"
     ]
    },
    {
     "name": "stderr",
     "output_type": "stream",
     "text": [
      "\r",
      " 13%|███████████                                                                        | 4/30 [00:34<03:44,  8.65s/it]"
     ]
    },
    {
     "name": "stdout",
     "output_type": "stream",
     "text": [
      "Epoch [4], epoch time: 8.671 s, train loss: 0.384, val loss: 0.963, train accuracy: 46.698 %, val accuracy: 446.154 %\n"
     ]
    },
    {
     "name": "stderr",
     "output_type": "stream",
     "text": [
      "\r",
      " 17%|█████████████▊                                                                     | 5/30 [00:43<03:35,  8.64s/it]"
     ]
    },
    {
     "name": "stdout",
     "output_type": "stream",
     "text": [
      "Epoch [5], epoch time: 8.606 s, train loss: 0.476, val loss: 0.711, train accuracy: 55.189 %, val accuracy: 423.077 %\n"
     ]
    },
    {
     "name": "stderr",
     "output_type": "stream",
     "text": [
      "\r",
      " 20%|████████████████▌                                                                  | 6/30 [00:51<03:26,  8.62s/it]"
     ]
    },
    {
     "name": "stdout",
     "output_type": "stream",
     "text": [
      "Epoch [6], epoch time: 8.592 s, train loss: 0.385, val loss: 0.735, train accuracy: 52.358 %, val accuracy: 403.846 %\n"
     ]
    },
    {
     "name": "stderr",
     "output_type": "stream",
     "text": [
      "\r",
      " 23%|███████████████████▎                                                               | 7/30 [01:00<03:17,  8.59s/it]"
     ]
    },
    {
     "name": "stdout",
     "output_type": "stream",
     "text": [
      "Epoch [7], epoch time: 8.522 s, train loss: 0.461, val loss: 0.712, train accuracy: 43.396 %, val accuracy: 403.846 %\n"
     ]
    },
    {
     "name": "stderr",
     "output_type": "stream",
     "text": [
      "\r",
      " 27%|██████████████████████▏                                                            | 8/30 [01:08<03:07,  8.52s/it]"
     ]
    },
    {
     "name": "stdout",
     "output_type": "stream",
     "text": [
      "Epoch [8], epoch time: 8.378 s, train loss: 0.402, val loss: 0.807, train accuracy: 57.547 %, val accuracy: 384.615 %\n"
     ]
    },
    {
     "name": "stderr",
     "output_type": "stream",
     "text": [
      "\r",
      " 30%|████████████████████████▉                                                          | 9/30 [01:17<02:58,  8.50s/it]"
     ]
    },
    {
     "name": "stdout",
     "output_type": "stream",
     "text": [
      "Epoch [9], epoch time: 8.465 s, train loss: 0.313, val loss: 0.770, train accuracy: 43.868 %, val accuracy: 507.692 %\n"
     ]
    },
    {
     "name": "stderr",
     "output_type": "stream",
     "text": [
      "\r",
      " 33%|███████████████████████████▎                                                      | 10/30 [01:25<02:49,  8.49s/it]"
     ]
    },
    {
     "name": "stdout",
     "output_type": "stream",
     "text": [
      "Epoch [10], epoch time: 8.449 s, train loss: 0.438, val loss: 0.774, train accuracy: 46.226 %, val accuracy: 515.385 %\n"
     ]
    },
    {
     "name": "stderr",
     "output_type": "stream",
     "text": [
      "\r",
      " 37%|██████████████████████████████                                                    | 11/30 [01:34<02:42,  8.53s/it]"
     ]
    },
    {
     "name": "stdout",
     "output_type": "stream",
     "text": [
      "Epoch [11], epoch time: 8.623 s, train loss: 0.281, val loss: 1.185, train accuracy: 56.132 %, val accuracy: 430.769 %\n"
     ]
    },
    {
     "name": "stderr",
     "output_type": "stream",
     "text": [
      "\r",
      " 40%|████████████████████████████████▊                                                 | 12/30 [01:42<02:33,  8.56s/it]"
     ]
    },
    {
     "name": "stdout",
     "output_type": "stream",
     "text": [
      "Epoch [12], epoch time: 8.612 s, train loss: 0.270, val loss: 1.147, train accuracy: 46.698 %, val accuracy: 415.385 %\n"
     ]
    },
    {
     "name": "stderr",
     "output_type": "stream",
     "text": [
      "\r",
      " 43%|███████████████████████████████████▌                                              | 13/30 [01:51<02:25,  8.54s/it]"
     ]
    },
    {
     "name": "stdout",
     "output_type": "stream",
     "text": [
      "Epoch [13], epoch time: 8.488 s, train loss: 0.338, val loss: 0.939, train accuracy: 53.774 %, val accuracy: 384.615 %\n"
     ]
    },
    {
     "name": "stderr",
     "output_type": "stream",
     "text": [
      "\r",
      " 47%|██████████████████████████████████████▎                                           | 14/30 [01:59<02:16,  8.52s/it]"
     ]
    },
    {
     "name": "stdout",
     "output_type": "stream",
     "text": [
      "Epoch [14], epoch time: 8.479 s, train loss: 0.346, val loss: 0.673, train accuracy: 40.566 %, val accuracy: 438.462 %\n"
     ]
    },
    {
     "name": "stderr",
     "output_type": "stream",
     "text": [
      "\r",
      " 50%|█████████████████████████████████████████                                         | 15/30 [02:08<02:07,  8.49s/it]"
     ]
    },
    {
     "name": "stdout",
     "output_type": "stream",
     "text": [
      "Epoch [15], epoch time: 8.423 s, train loss: 0.414, val loss: 0.779, train accuracy: 46.698 %, val accuracy: 476.923 %\n"
     ]
    },
    {
     "name": "stderr",
     "output_type": "stream",
     "text": [
      "\r",
      " 53%|███████████████████████████████████████████▋                                      | 16/30 [02:17<02:00,  8.60s/it]"
     ]
    },
    {
     "name": "stdout",
     "output_type": "stream",
     "text": [
      "Epoch [16], epoch time: 8.843 s, train loss: 0.329, val loss: 0.648, train accuracy: 55.660 %, val accuracy: 488.462 %\n"
     ]
    },
    {
     "name": "stderr",
     "output_type": "stream",
     "text": [
      "\r",
      " 57%|██████████████████████████████████████████████▍                                   | 17/30 [02:25<01:52,  8.65s/it]"
     ]
    },
    {
     "name": "stdout",
     "output_type": "stream",
     "text": [
      "Epoch [17], epoch time: 8.783 s, train loss: 0.274, val loss: 1.067, train accuracy: 45.283 %, val accuracy: 415.385 %\n"
     ]
    }
   ],
   "source": [
    "BcelAdam.BcelAdam(0.0001, 'C:\\dataset2')\n",
    "BcelSgd.BcelSGD(0.0001, 'C:\\dataset2')\n",
    "CelAdam.CelAdam(0.0001, 'C:\\dataset2')\n",
    "CelSgd.CelSgd(0.0001, 'C:\\dataset2')"
   ]
  },
  {
   "cell_type": "markdown",
   "id": "65de8c99",
   "metadata": {},
   "source": [
    "## 0.001"
   ]
  },
  {
   "cell_type": "code",
   "execution_count": null,
   "id": "dbc1f6de",
   "metadata": {},
   "outputs": [],
   "source": [
    "BcelAdam.BcelAdam(0.001, 'C:\\dataset2')\n",
    "BcelSgd.BcelSGD(0.001, 'C:\\dataset2')\n",
    "CelAdam.CelAdam(0.001, 'C:\\dataset2')\n",
    "CelSgd.CelSgd(0.001, 'C:\\dataset2')"
   ]
  },
  {
   "cell_type": "markdown",
   "id": "2d161675",
   "metadata": {},
   "source": [
    "## 0.01"
   ]
  },
  {
   "cell_type": "code",
   "execution_count": null,
   "id": "bf3837e4",
   "metadata": {},
   "outputs": [],
   "source": [
    "BcelAdam.BcelAdam(0.01, 'C:\\dataset2')\n",
    "BcelSgd.BcelSGD(0.01, 'C:\\dataset2')\n",
    "CelAdam.CelAdam(0.01, 'C:\\dataset2')\n",
    "CelSgd.CelSgd(0.01, 'C:\\dataset2')"
   ]
  },
  {
   "cell_type": "markdown",
   "id": "a73ac75c",
   "metadata": {},
   "source": [
    "# BreakHis"
   ]
  },
  {
   "cell_type": "markdown",
   "id": "736aa0db",
   "metadata": {},
   "source": [
    "## 0.0001"
   ]
  },
  {
   "cell_type": "code",
   "execution_count": null,
   "id": "e6072562",
   "metadata": {
    "scrolled": false
   },
   "outputs": [],
   "source": [
    "BcelAdam.BcelAdam(0.0001, 'C:\\dataset')\n",
    "BcelSgd.BcelSGD(0.0001, 'C:\\dataset')\n",
    "CelAdam.CelAdam(0.0001, 'C:\\dataset')\n",
    "CelSgd.CelSgd(0.0001, 'C:\\dataset')"
   ]
  },
  {
   "cell_type": "markdown",
   "id": "627de982",
   "metadata": {},
   "source": [
    "## 0.001"
   ]
  },
  {
   "cell_type": "code",
   "execution_count": null,
   "id": "2a4f8aa4",
   "metadata": {},
   "outputs": [],
   "source": [
    "BcelAdam.BcelAdam(0.001, 'C:\\dataset')\n",
    "BcelSgd.BcelSGD(0.001, 'C:\\dataset')\n",
    "CelAdam.CelAdam(0.001, 'C:\\dataset')\n",
    "CelSgd.CelSgd(0.001, 'C:\\dataset')"
   ]
  },
  {
   "cell_type": "markdown",
   "id": "b9cea614",
   "metadata": {},
   "source": [
    "## 0.01"
   ]
  },
  {
   "cell_type": "code",
   "execution_count": null,
   "id": "8513c521",
   "metadata": {},
   "outputs": [],
   "source": [
    "BcelAdam.BcelAdam(0.01, 'C:\\dataset')\n",
    "BcelSgd.BcelSGD(0.01, 'C:\\dataset')\n",
    "CelAdam.CelAdam(0.01, 'C:\\dataset')\n",
    "CelSgd.CelSgd(0.01, 'C:\\dataset')"
   ]
  }
 ],
 "metadata": {
  "kernelspec": {
   "display_name": "Python 3 (ipykernel)",
   "language": "python",
   "name": "python3"
  },
  "language_info": {
   "codemirror_mode": {
    "name": "ipython",
    "version": 3
   },
   "file_extension": ".py",
   "mimetype": "text/x-python",
   "name": "python",
   "nbconvert_exporter": "python",
   "pygments_lexer": "ipython3",
   "version": "3.8.16"
  }
 },
 "nbformat": 4,
 "nbformat_minor": 5
}
