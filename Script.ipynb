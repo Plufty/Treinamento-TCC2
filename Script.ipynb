{
 "cells": [
  {
   "cell_type": "code",
   "execution_count": 1,
   "id": "fddaac74",
   "metadata": {},
   "outputs": [],
   "source": [
    "import os\n",
    "import torch\n",
    "import torchvision\n",
    "import time\n",
    "from torch import nn, optim\n",
    "from torchvision import datasets, transforms, models\n",
    "from tqdm import tqdm\n",
    "from efficientnet_pytorch import EfficientNet\n",
    "\n",
    "#Importando meus Scripts\n",
    "import BcelAdam\n",
    "import BcelSgd\n",
    "import CelAdam\n",
    "import CelSgd"
   ]
  },
  {
   "cell_type": "markdown",
   "id": "15791258",
   "metadata": {},
   "source": [
    "# Biglycan"
   ]
  },
  {
   "cell_type": "markdown",
   "id": "e1685800",
   "metadata": {},
   "source": [
    "## 0.0001"
   ]
  },
  {
   "cell_type": "code",
   "execution_count": null,
   "id": "cddcd24b",
   "metadata": {
    "scrolled": false
   },
   "outputs": [
    {
     "name": "stderr",
     "output_type": "stream",
     "text": [
      "C:\\Users\\Plufty\\anaconda3\\envs\\torch\\lib\\site-packages\\torchvision\\models\\_utils.py:208: UserWarning: The parameter 'pretrained' is deprecated since 0.13 and may be removed in the future, please use 'weights' instead.\n",
      "  warnings.warn(\n",
      "C:\\Users\\Plufty\\anaconda3\\envs\\torch\\lib\\site-packages\\torchvision\\models\\_utils.py:223: UserWarning: Arguments other than a weight enum or `None` for 'weights' are deprecated since 0.13 and may be removed in the future. The current behavior is equivalent to passing `weights=AlexNet_Weights.IMAGENET1K_V1`. You can also use `weights=AlexNet_Weights.DEFAULT` to get the most up-to-date weights.\n",
      "  warnings.warn(msg)\n"
     ]
    },
    {
     "name": "stdout",
     "output_type": "stream",
     "text": [
      "Loaded pretrained weights for efficientnet-b0\n"
     ]
    },
    {
     "name": "stderr",
     "output_type": "stream",
     "text": [
      "C:\\Users\\Plufty\\anaconda3\\envs\\torch\\lib\\site-packages\\torchvision\\models\\_utils.py:223: UserWarning: Arguments other than a weight enum or `None` for 'weights' are deprecated since 0.13 and may be removed in the future. The current behavior is equivalent to passing `weights=ResNet50_Weights.IMAGENET1K_V1`. You can also use `weights=ResNet50_Weights.DEFAULT` to get the most up-to-date weights.\n",
      "  warnings.warn(msg)\n",
      "C:\\Users\\Plufty\\anaconda3\\envs\\torch\\lib\\site-packages\\torchvision\\models\\_utils.py:223: UserWarning: Arguments other than a weight enum or `None` for 'weights' are deprecated since 0.13 and may be removed in the future. The current behavior is equivalent to passing `weights=ShuffleNet_V2_X1_0_Weights.IMAGENET1K_V1`. You can also use `weights=ShuffleNet_V2_X1_0_Weights.DEFAULT` to get the most up-to-date weights.\n",
      "  warnings.warn(msg)\n",
      "C:\\Users\\Plufty\\anaconda3\\envs\\torch\\lib\\site-packages\\torchvision\\models\\_utils.py:223: UserWarning: Arguments other than a weight enum or `None` for 'weights' are deprecated since 0.13 and may be removed in the future. The current behavior is equivalent to passing `weights=SqueezeNet1_0_Weights.IMAGENET1K_V1`. You can also use `weights=SqueezeNet1_0_Weights.DEFAULT` to get the most up-to-date weights.\n",
      "  warnings.warn(msg)\n",
      "C:\\Users\\Plufty\\anaconda3\\envs\\torch\\lib\\site-packages\\torchvision\\models\\_utils.py:223: UserWarning: Arguments other than a weight enum or `None` for 'weights' are deprecated since 0.13 and may be removed in the future. The current behavior is equivalent to passing `weights=VGG16_Weights.IMAGENET1K_V1`. You can also use `weights=VGG16_Weights.DEFAULT` to get the most up-to-date weights.\n",
      "  warnings.warn(msg)\n",
      "  3%|██▊                                                                                | 1/30 [00:09<04:36,  9.52s/it]"
     ]
    },
    {
     "name": "stdout",
     "output_type": "stream",
     "text": [
      "Epoch [1], epoch time: 9.524 s, train loss: 0.654, val loss: 0.829, train accuracy: 47.170 %, val accuracy: 61.538 %\n"
     ]
    },
    {
     "name": "stderr",
     "output_type": "stream",
     "text": [
      "\r",
      "  7%|█████▌                                                                             | 2/30 [00:17<03:54,  8.37s/it]"
     ]
    },
    {
     "name": "stdout",
     "output_type": "stream",
     "text": [
      "Epoch [2], epoch time: 7.552 s, train loss: 0.531, val loss: 0.634, train accuracy: 41.981 %, val accuracy: 65.385 %\n"
     ]
    },
    {
     "name": "stderr",
     "output_type": "stream",
     "text": [
      "\r",
      " 10%|████████▎                                                                          | 3/30 [00:24<03:38,  8.09s/it]"
     ]
    },
    {
     "name": "stdout",
     "output_type": "stream",
     "text": [
      "Epoch [3], epoch time: 7.772 s, train loss: 0.527, val loss: 0.638, train accuracy: 52.358 %, val accuracy: 23.077 %\n"
     ]
    },
    {
     "name": "stderr",
     "output_type": "stream",
     "text": [
      "\r",
      " 13%|███████████                                                                        | 4/30 [00:32<03:25,  7.91s/it]"
     ]
    },
    {
     "name": "stdout",
     "output_type": "stream",
     "text": [
      "Epoch [4], epoch time: 7.636 s, train loss: 0.501, val loss: 0.456, train accuracy: 46.698 %, val accuracy: 84.615 %\n"
     ]
    },
    {
     "name": "stderr",
     "output_type": "stream",
     "text": [
      "\r",
      " 17%|█████████████▊                                                                     | 5/30 [00:39<03:12,  7.71s/it]"
     ]
    },
    {
     "name": "stdout",
     "output_type": "stream",
     "text": [
      "Epoch [5], epoch time: 7.340 s, train loss: 0.531, val loss: 0.645, train accuracy: 47.642 %, val accuracy: 57.692 %\n"
     ]
    },
    {
     "name": "stderr",
     "output_type": "stream",
     "text": [
      "\r",
      " 20%|████████████████▌                                                                  | 6/30 [00:47<03:05,  7.75s/it]"
     ]
    },
    {
     "name": "stdout",
     "output_type": "stream",
     "text": [
      "Epoch [6], epoch time: 7.827 s, train loss: 0.587, val loss: 0.723, train accuracy: 41.509 %, val accuracy: 65.385 %\n"
     ]
    },
    {
     "name": "stderr",
     "output_type": "stream",
     "text": [
      "\r",
      " 23%|███████████████████▎                                                               | 7/30 [00:56<03:07,  8.17s/it]"
     ]
    },
    {
     "name": "stdout",
     "output_type": "stream",
     "text": [
      "Epoch [7], epoch time: 9.039 s, train loss: 0.411, val loss: 0.665, train accuracy: 48.585 %, val accuracy: 61.538 %\n"
     ]
    },
    {
     "name": "stderr",
     "output_type": "stream",
     "text": [
      "\r",
      " 27%|██████████████████████▏                                                            | 8/30 [01:04<02:55,  7.96s/it]"
     ]
    },
    {
     "name": "stdout",
     "output_type": "stream",
     "text": [
      "Epoch [8], epoch time: 7.512 s, train loss: 0.521, val loss: 0.654, train accuracy: 50.000 %, val accuracy: 30.769 %\n"
     ]
    },
    {
     "name": "stderr",
     "output_type": "stream",
     "text": [
      "\r",
      " 30%|████████████████████████▉                                                          | 9/30 [01:11<02:44,  7.84s/it]"
     ]
    },
    {
     "name": "stdout",
     "output_type": "stream",
     "text": [
      "Epoch [9], epoch time: 7.574 s, train loss: 0.362, val loss: 0.607, train accuracy: 44.340 %, val accuracy: 69.231 %\n"
     ]
    },
    {
     "name": "stderr",
     "output_type": "stream",
     "text": [
      "\r",
      " 33%|███████████████████████████▎                                                      | 10/30 [01:19<02:33,  7.68s/it]"
     ]
    },
    {
     "name": "stdout",
     "output_type": "stream",
     "text": [
      "Epoch [10], epoch time: 7.321 s, train loss: 0.416, val loss: 1.226, train accuracy: 47.642 %, val accuracy: 53.846 %\n"
     ]
    },
    {
     "name": "stderr",
     "output_type": "stream",
     "text": [
      "\r",
      " 37%|██████████████████████████████                                                    | 11/30 [01:26<02:23,  7.57s/it]"
     ]
    },
    {
     "name": "stdout",
     "output_type": "stream",
     "text": [
      "Epoch [11], epoch time: 7.325 s, train loss: 0.325, val loss: 0.737, train accuracy: 45.755 %, val accuracy: 38.462 %\n"
     ]
    },
    {
     "name": "stderr",
     "output_type": "stream",
     "text": [
      "\r",
      " 40%|████████████████████████████████▊                                                 | 12/30 [01:33<02:15,  7.52s/it]"
     ]
    },
    {
     "name": "stdout",
     "output_type": "stream",
     "text": [
      "Epoch [12], epoch time: 7.402 s, train loss: 0.328, val loss: 0.941, train accuracy: 37.264 %, val accuracy: 65.385 %\n"
     ]
    },
    {
     "name": "stderr",
     "output_type": "stream",
     "text": [
      "\r",
      " 43%|███████████████████████████████████▌                                              | 13/30 [01:41<02:08,  7.55s/it]"
     ]
    },
    {
     "name": "stdout",
     "output_type": "stream",
     "text": [
      "Epoch [13], epoch time: 7.611 s, train loss: 0.335, val loss: 1.557, train accuracy: 44.811 %, val accuracy: 50.000 %\n"
     ]
    },
    {
     "name": "stderr",
     "output_type": "stream",
     "text": [
      "\r",
      " 47%|██████████████████████████████████████▎                                           | 14/30 [01:48<01:59,  7.49s/it]"
     ]
    },
    {
     "name": "stdout",
     "output_type": "stream",
     "text": [
      "Epoch [14], epoch time: 7.341 s, train loss: 0.424, val loss: 0.530, train accuracy: 56.604 %, val accuracy: 53.846 %\n"
     ]
    },
    {
     "name": "stderr",
     "output_type": "stream",
     "text": [
      "\r",
      " 50%|█████████████████████████████████████████                                         | 15/30 [01:56<01:52,  7.50s/it]"
     ]
    },
    {
     "name": "stdout",
     "output_type": "stream",
     "text": [
      "Epoch [15], epoch time: 7.535 s, train loss: 0.344, val loss: 0.628, train accuracy: 47.642 %, val accuracy: 53.846 %\n"
     ]
    },
    {
     "name": "stderr",
     "output_type": "stream",
     "text": [
      "\r",
      " 53%|███████████████████████████████████████████▋                                      | 16/30 [02:04<01:45,  7.57s/it]"
     ]
    },
    {
     "name": "stdout",
     "output_type": "stream",
     "text": [
      "Epoch [16], epoch time: 7.718 s, train loss: 0.320, val loss: 1.054, train accuracy: 46.226 %, val accuracy: 73.077 %\n"
     ]
    },
    {
     "name": "stderr",
     "output_type": "stream",
     "text": [
      "\r",
      " 57%|██████████████████████████████████████████████▍                                   | 17/30 [02:11<01:37,  7.50s/it]"
     ]
    },
    {
     "name": "stdout",
     "output_type": "stream",
     "text": [
      "Epoch [17], epoch time: 7.328 s, train loss: 0.376, val loss: 0.383, train accuracy: 59.434 %, val accuracy: 34.615 %\n"
     ]
    },
    {
     "name": "stderr",
     "output_type": "stream",
     "text": [
      "\r",
      " 60%|█████████████████████████████████████████████████▏                                | 18/30 [02:19<01:30,  7.58s/it]"
     ]
    },
    {
     "name": "stdout",
     "output_type": "stream",
     "text": [
      "Epoch [18], epoch time: 7.763 s, train loss: 0.317, val loss: 0.492, train accuracy: 43.396 %, val accuracy: 50.000 %\n"
     ]
    },
    {
     "name": "stderr",
     "output_type": "stream",
     "text": [
      "\r",
      " 63%|███████████████████████████████████████████████████▉                              | 19/30 [02:26<01:23,  7.55s/it]"
     ]
    },
    {
     "name": "stdout",
     "output_type": "stream",
     "text": [
      "Epoch [19], epoch time: 7.495 s, train loss: 0.291, val loss: 0.736, train accuracy: 53.774 %, val accuracy: 38.462 %\n"
     ]
    }
   ],
   "source": [
    "BcelAdam.BcelAdam(0.0001, 'C:\\dataset2')\n",
    "BcelSgd.BcelSGD(0.0001, 'C:\\dataset2')\n",
    "CelAdam.CelAdam(0.0001, 'C:\\dataset2')\n",
    "CelSgd.CelSgd(0.0001, 'C:\\dataset2')"
   ]
  },
  {
   "cell_type": "markdown",
   "id": "4923e196",
   "metadata": {},
   "source": [
    "## 0.001"
   ]
  },
  {
   "cell_type": "code",
   "execution_count": null,
   "id": "33d025b2",
   "metadata": {},
   "outputs": [],
   "source": [
    "BcelAdam.BcelAdam(0.001, 'C:\\dataset2')\n",
    "BcelSgd.BcelSGD(0.001, 'C:\\dataset2')\n",
    "CelAdam.CelAdam(0.001, 'C:\\dataset2')\n",
    "CelSgd.CelSgd(0.001, 'C:\\dataset2')"
   ]
  },
  {
   "cell_type": "markdown",
   "id": "3c422ded",
   "metadata": {},
   "source": [
    "## 0.01"
   ]
  },
  {
   "cell_type": "code",
   "execution_count": null,
   "id": "42f79356",
   "metadata": {},
   "outputs": [],
   "source": [
    "BcelAdam.BcelAdam(0.01, 'C:\\dataset2')\n",
    "BcelSgd.BcelSGD(0.01, 'C:\\dataset2')\n",
    "CelAdam.CelAdam(0.01, 'C:\\dataset2')\n",
    "CelSgd.CelSgd(0.01, 'C:\\dataset2')"
   ]
  },
  {
   "cell_type": "markdown",
   "id": "a73ac75c",
   "metadata": {},
   "source": [
    "# BreakHis"
   ]
  },
  {
   "cell_type": "markdown",
   "id": "736aa0db",
   "metadata": {},
   "source": [
    "## 0.0001"
   ]
  },
  {
   "cell_type": "code",
   "execution_count": null,
   "id": "e6072562",
   "metadata": {
    "scrolled": false
   },
   "outputs": [],
   "source": [
    "BcelAdam.BcelAdam(0.0001, 'C:\\dataset')\n",
    "BcelSgd.BcelSGD(0.0001, 'C:\\dataset')\n",
    "CelAdam.CelAdam(0.0001, 'C:\\dataset')\n",
    "CelSgd.CelSgd(0.0001, 'C:\\dataset')"
   ]
  },
  {
   "cell_type": "markdown",
   "id": "627de982",
   "metadata": {},
   "source": [
    "## 0.001"
   ]
  },
  {
   "cell_type": "code",
   "execution_count": null,
   "id": "2a4f8aa4",
   "metadata": {},
   "outputs": [],
   "source": [
    "BcelAdam.BcelAdam(0.001, 'C:\\dataset')\n",
    "BcelSgd.BcelSGD(0.001, 'C:\\dataset')\n",
    "CelAdam.CelAdam(0.001, 'C:\\dataset')\n",
    "CelSgd.CelSgd(0.001, 'C:\\dataset')"
   ]
  },
  {
   "cell_type": "markdown",
   "id": "b9cea614",
   "metadata": {},
   "source": [
    "## 0.01"
   ]
  },
  {
   "cell_type": "code",
   "execution_count": null,
   "id": "8513c521",
   "metadata": {},
   "outputs": [],
   "source": [
    "BcelAdam.BcelAdam(0.01, 'C:\\dataset')\n",
    "BcelSgd.BcelSGD(0.01, 'C:\\dataset')\n",
    "CelAdam.CelAdam(0.01, 'C:\\dataset')\n",
    "CelSgd.CelSgd(0.01, 'C:\\dataset')"
   ]
  }
 ],
 "metadata": {
  "kernelspec": {
   "display_name": "Python 3 (ipykernel)",
   "language": "python",
   "name": "python3"
  },
  "language_info": {
   "codemirror_mode": {
    "name": "ipython",
    "version": 3
   },
   "file_extension": ".py",
   "mimetype": "text/x-python",
   "name": "python",
   "nbconvert_exporter": "python",
   "pygments_lexer": "ipython3",
   "version": "3.8.16"
  }
 },
 "nbformat": 4,
 "nbformat_minor": 5
}
