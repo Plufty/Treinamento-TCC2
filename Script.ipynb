{
 "cells": [
  {
   "cell_type": "code",
   "execution_count": 1,
   "id": "fddaac74",
   "metadata": {},
   "outputs": [],
   "source": [
    "import os\n",
    "import torch\n",
    "import torchvision\n",
    "import time\n",
    "from torch import nn, optim\n",
    "from torchvision import datasets, transforms, models\n",
    "from tqdm import tqdm\n",
    "from efficientnet_pytorch import EfficientNet\n",
    "\n",
    "#Importando meus Scripts\n",
    "import BcelAdam\n",
    "import BcelSgd\n",
    "import CelAdam\n",
    "import CelSgd"
   ]
  },
  {
   "cell_type": "markdown",
   "id": "f383e0ef",
   "metadata": {},
   "source": [
    "# Biglycan"
   ]
  },
  {
   "cell_type": "markdown",
   "id": "ab3ce872",
   "metadata": {},
   "source": [
    "## 0.0001"
   ]
  },
  {
   "cell_type": "code",
   "execution_count": null,
   "id": "649cd0b4",
   "metadata": {
    "scrolled": false
   },
   "outputs": [
    {
     "name": "stderr",
     "output_type": "stream",
     "text": [
      "C:\\Users\\Plufty\\anaconda3\\envs\\torch\\lib\\site-packages\\torchvision\\models\\_utils.py:208: UserWarning: The parameter 'pretrained' is deprecated since 0.13 and may be removed in the future, please use 'weights' instead.\n",
      "  warnings.warn(\n",
      "C:\\Users\\Plufty\\anaconda3\\envs\\torch\\lib\\site-packages\\torchvision\\models\\_utils.py:223: UserWarning: Arguments other than a weight enum or `None` for 'weights' are deprecated since 0.13 and may be removed in the future. The current behavior is equivalent to passing `weights=AlexNet_Weights.IMAGENET1K_V1`. You can also use `weights=AlexNet_Weights.DEFAULT` to get the most up-to-date weights.\n",
      "  warnings.warn(msg)\n"
     ]
    },
    {
     "name": "stdout",
     "output_type": "stream",
     "text": [
      "Loaded pretrained weights for efficientnet-b0\n"
     ]
    },
    {
     "name": "stderr",
     "output_type": "stream",
     "text": [
      "C:\\Users\\Plufty\\anaconda3\\envs\\torch\\lib\\site-packages\\torchvision\\models\\_utils.py:223: UserWarning: Arguments other than a weight enum or `None` for 'weights' are deprecated since 0.13 and may be removed in the future. The current behavior is equivalent to passing `weights=ResNet50_Weights.IMAGENET1K_V1`. You can also use `weights=ResNet50_Weights.DEFAULT` to get the most up-to-date weights.\n",
      "  warnings.warn(msg)\n",
      "C:\\Users\\Plufty\\anaconda3\\envs\\torch\\lib\\site-packages\\torchvision\\models\\_utils.py:223: UserWarning: Arguments other than a weight enum or `None` for 'weights' are deprecated since 0.13 and may be removed in the future. The current behavior is equivalent to passing `weights=ShuffleNet_V2_X1_0_Weights.IMAGENET1K_V1`. You can also use `weights=ShuffleNet_V2_X1_0_Weights.DEFAULT` to get the most up-to-date weights.\n",
      "  warnings.warn(msg)\n",
      "C:\\Users\\Plufty\\anaconda3\\envs\\torch\\lib\\site-packages\\torchvision\\models\\_utils.py:223: UserWarning: Arguments other than a weight enum or `None` for 'weights' are deprecated since 0.13 and may be removed in the future. The current behavior is equivalent to passing `weights=SqueezeNet1_0_Weights.IMAGENET1K_V1`. You can also use `weights=SqueezeNet1_0_Weights.DEFAULT` to get the most up-to-date weights.\n",
      "  warnings.warn(msg)\n",
      "C:\\Users\\Plufty\\anaconda3\\envs\\torch\\lib\\site-packages\\torchvision\\models\\_utils.py:223: UserWarning: Arguments other than a weight enum or `None` for 'weights' are deprecated since 0.13 and may be removed in the future. The current behavior is equivalent to passing `weights=VGG16_Weights.IMAGENET1K_V1`. You can also use `weights=VGG16_Weights.DEFAULT` to get the most up-to-date weights.\n",
      "  warnings.warn(msg)\n",
      "  3%|██▊                                                                                | 1/30 [00:09<04:36,  9.52s/it]"
     ]
    },
    {
     "name": "stdout",
     "output_type": "stream",
     "text": [
      "Epoch [1], epoch time: 9.524 s, train loss: 0.654, val loss: 0.829, train accuracy: 47.170 %, val accuracy: 61.538 %\n"
     ]
    },
    {
     "name": "stderr",
     "output_type": "stream",
     "text": [
      "\r",
      "  7%|█████▌                                                                             | 2/30 [00:17<03:54,  8.37s/it]"
     ]
    },
    {
     "name": "stdout",
     "output_type": "stream",
     "text": [
      "Epoch [2], epoch time: 7.552 s, train loss: 0.531, val loss: 0.634, train accuracy: 41.981 %, val accuracy: 65.385 %\n"
     ]
    },
    {
     "name": "stderr",
     "output_type": "stream",
     "text": [
      "\r",
      " 10%|████████▎                                                                          | 3/30 [00:24<03:38,  8.09s/it]"
     ]
    },
    {
     "name": "stdout",
     "output_type": "stream",
     "text": [
      "Epoch [3], epoch time: 7.772 s, train loss: 0.527, val loss: 0.638, train accuracy: 52.358 %, val accuracy: 23.077 %\n"
     ]
    },
    {
     "name": "stderr",
     "output_type": "stream",
     "text": [
      "\r",
      " 13%|███████████                                                                        | 4/30 [00:32<03:25,  7.91s/it]"
     ]
    },
    {
     "name": "stdout",
     "output_type": "stream",
     "text": [
      "Epoch [4], epoch time: 7.636 s, train loss: 0.501, val loss: 0.456, train accuracy: 46.698 %, val accuracy: 84.615 %\n"
     ]
    },
    {
     "name": "stderr",
     "output_type": "stream",
     "text": [
      "\r",
      " 17%|█████████████▊                                                                     | 5/30 [00:39<03:12,  7.71s/it]"
     ]
    },
    {
     "name": "stdout",
     "output_type": "stream",
     "text": [
      "Epoch [5], epoch time: 7.340 s, train loss: 0.531, val loss: 0.645, train accuracy: 47.642 %, val accuracy: 57.692 %\n"
     ]
    },
    {
     "name": "stderr",
     "output_type": "stream",
     "text": [
      "\r",
      " 20%|████████████████▌                                                                  | 6/30 [00:47<03:05,  7.75s/it]"
     ]
    },
    {
     "name": "stdout",
     "output_type": "stream",
     "text": [
      "Epoch [6], epoch time: 7.827 s, train loss: 0.587, val loss: 0.723, train accuracy: 41.509 %, val accuracy: 65.385 %\n"
     ]
    },
    {
     "name": "stderr",
     "output_type": "stream",
     "text": [
      "\r",
      " 23%|███████████████████▎                                                               | 7/30 [00:56<03:07,  8.17s/it]"
     ]
    },
    {
     "name": "stdout",
     "output_type": "stream",
     "text": [
      "Epoch [7], epoch time: 9.039 s, train loss: 0.411, val loss: 0.665, train accuracy: 48.585 %, val accuracy: 61.538 %\n"
     ]
    },
    {
     "name": "stderr",
     "output_type": "stream",
     "text": [
      "\r",
      " 27%|██████████████████████▏                                                            | 8/30 [01:04<02:55,  7.96s/it]"
     ]
    },
    {
     "name": "stdout",
     "output_type": "stream",
     "text": [
      "Epoch [8], epoch time: 7.512 s, train loss: 0.521, val loss: 0.654, train accuracy: 50.000 %, val accuracy: 30.769 %\n"
     ]
    },
    {
     "name": "stderr",
     "output_type": "stream",
     "text": [
      "\r",
      " 30%|████████████████████████▉                                                          | 9/30 [01:11<02:44,  7.84s/it]"
     ]
    },
    {
     "name": "stdout",
     "output_type": "stream",
     "text": [
      "Epoch [9], epoch time: 7.574 s, train loss: 0.362, val loss: 0.607, train accuracy: 44.340 %, val accuracy: 69.231 %\n"
     ]
    },
    {
     "name": "stderr",
     "output_type": "stream",
     "text": [
      "\r",
      " 33%|███████████████████████████▎                                                      | 10/30 [01:19<02:33,  7.68s/it]"
     ]
    },
    {
     "name": "stdout",
     "output_type": "stream",
     "text": [
      "Epoch [10], epoch time: 7.321 s, train loss: 0.416, val loss: 1.226, train accuracy: 47.642 %, val accuracy: 53.846 %\n"
     ]
    },
    {
     "name": "stderr",
     "output_type": "stream",
     "text": [
      "\r",
      " 37%|██████████████████████████████                                                    | 11/30 [01:26<02:23,  7.57s/it]"
     ]
    },
    {
     "name": "stdout",
     "output_type": "stream",
     "text": [
      "Epoch [11], epoch time: 7.325 s, train loss: 0.325, val loss: 0.737, train accuracy: 45.755 %, val accuracy: 38.462 %\n"
     ]
    },
    {
     "name": "stderr",
     "output_type": "stream",
     "text": [
      "\r",
      " 40%|████████████████████████████████▊                                                 | 12/30 [01:33<02:15,  7.52s/it]"
     ]
    },
    {
     "name": "stdout",
     "output_type": "stream",
     "text": [
      "Epoch [12], epoch time: 7.402 s, train loss: 0.328, val loss: 0.941, train accuracy: 37.264 %, val accuracy: 65.385 %\n"
     ]
    },
    {
     "name": "stderr",
     "output_type": "stream",
     "text": [
      "\r",
      " 43%|███████████████████████████████████▌                                              | 13/30 [01:41<02:08,  7.55s/it]"
     ]
    },
    {
     "name": "stdout",
     "output_type": "stream",
     "text": [
      "Epoch [13], epoch time: 7.611 s, train loss: 0.335, val loss: 1.557, train accuracy: 44.811 %, val accuracy: 50.000 %\n"
     ]
    },
    {
     "name": "stderr",
     "output_type": "stream",
     "text": [
      "\r",
      " 47%|██████████████████████████████████████▎                                           | 14/30 [01:48<01:59,  7.49s/it]"
     ]
    },
    {
     "name": "stdout",
     "output_type": "stream",
     "text": [
      "Epoch [14], epoch time: 7.341 s, train loss: 0.424, val loss: 0.530, train accuracy: 56.604 %, val accuracy: 53.846 %\n"
     ]
    },
    {
     "name": "stderr",
     "output_type": "stream",
     "text": [
      "\r",
      " 50%|█████████████████████████████████████████                                         | 15/30 [01:56<01:52,  7.50s/it]"
     ]
    },
    {
     "name": "stdout",
     "output_type": "stream",
     "text": [
      "Epoch [15], epoch time: 7.535 s, train loss: 0.344, val loss: 0.628, train accuracy: 47.642 %, val accuracy: 53.846 %\n"
     ]
    },
    {
     "name": "stderr",
     "output_type": "stream",
     "text": [
      "\r",
      " 53%|███████████████████████████████████████████▋                                      | 16/30 [02:04<01:45,  7.57s/it]"
     ]
    },
    {
     "name": "stdout",
     "output_type": "stream",
     "text": [
      "Epoch [16], epoch time: 7.718 s, train loss: 0.320, val loss: 1.054, train accuracy: 46.226 %, val accuracy: 73.077 %\n"
     ]
    },
    {
     "name": "stderr",
     "output_type": "stream",
     "text": [
      "\r",
      " 57%|██████████████████████████████████████████████▍                                   | 17/30 [02:11<01:37,  7.50s/it]"
     ]
    },
    {
     "name": "stdout",
     "output_type": "stream",
     "text": [
      "Epoch [17], epoch time: 7.328 s, train loss: 0.376, val loss: 0.383, train accuracy: 59.434 %, val accuracy: 34.615 %\n"
     ]
    },
    {
     "name": "stderr",
     "output_type": "stream",
     "text": [
      "\r",
      " 60%|█████████████████████████████████████████████████▏                                | 18/30 [02:19<01:30,  7.58s/it]"
     ]
    },
    {
     "name": "stdout",
     "output_type": "stream",
     "text": [
      "Epoch [18], epoch time: 7.763 s, train loss: 0.317, val loss: 0.492, train accuracy: 43.396 %, val accuracy: 50.000 %\n"
     ]
    },
    {
     "name": "stderr",
     "output_type": "stream",
     "text": [
      "\r",
      " 63%|███████████████████████████████████████████████████▉                              | 19/30 [02:26<01:23,  7.55s/it]"
     ]
    },
    {
     "name": "stdout",
     "output_type": "stream",
     "text": [
      "Epoch [19], epoch time: 7.495 s, train loss: 0.291, val loss: 0.736, train accuracy: 53.774 %, val accuracy: 38.462 %\n"
     ]
    },
    {
     "name": "stderr",
     "output_type": "stream",
     "text": [
      "\r",
      " 67%|██████████████████████████████████████████████████████▋                           | 20/30 [02:34<01:15,  7.58s/it]"
     ]
    },
    {
     "name": "stdout",
     "output_type": "stream",
     "text": [
      "Epoch [20], epoch time: 7.658 s, train loss: 0.452, val loss: 1.379, train accuracy: 53.774 %, val accuracy: 26.923 %\n"
     ]
    },
    {
     "name": "stderr",
     "output_type": "stream",
     "text": [
      "\r",
      " 70%|█████████████████████████████████████████████████████████▍                        | 21/30 [02:42<01:09,  7.77s/it]"
     ]
    },
    {
     "name": "stdout",
     "output_type": "stream",
     "text": [
      "Epoch [21], epoch time: 8.206 s, train loss: 0.341, val loss: 0.697, train accuracy: 66.509 %, val accuracy: 38.462 %\n"
     ]
    },
    {
     "name": "stderr",
     "output_type": "stream",
     "text": [
      "\r",
      " 73%|████████████████████████████████████████████████████████████▏                     | 22/30 [02:49<01:01,  7.67s/it]"
     ]
    },
    {
     "name": "stdout",
     "output_type": "stream",
     "text": [
      "Epoch [22], epoch time: 7.425 s, train loss: 0.244, val loss: 0.892, train accuracy: 47.642 %, val accuracy: 76.923 %\n"
     ]
    },
    {
     "name": "stderr",
     "output_type": "stream",
     "text": [
      "\r",
      " 77%|██████████████████████████████████████████████████████████████▊                   | 23/30 [02:57<00:54,  7.76s/it]"
     ]
    },
    {
     "name": "stdout",
     "output_type": "stream",
     "text": [
      "Epoch [23], epoch time: 7.981 s, train loss: 0.347, val loss: 1.069, train accuracy: 52.358 %, val accuracy: 57.692 %\n"
     ]
    },
    {
     "name": "stderr",
     "output_type": "stream",
     "text": [
      "\r",
      " 80%|█████████████████████████████████████████████████████████████████▌                | 24/30 [03:05<00:45,  7.62s/it]"
     ]
    },
    {
     "name": "stdout",
     "output_type": "stream",
     "text": [
      "Epoch [24], epoch time: 7.278 s, train loss: 0.284, val loss: 1.285, train accuracy: 60.377 %, val accuracy: 42.308 %\n"
     ]
    },
    {
     "name": "stderr",
     "output_type": "stream",
     "text": [
      "\r",
      " 83%|████████████████████████████████████████████████████████████████████▎             | 25/30 [03:13<00:38,  7.72s/it]"
     ]
    },
    {
     "name": "stdout",
     "output_type": "stream",
     "text": [
      "Epoch [25], epoch time: 7.954 s, train loss: 0.327, val loss: 0.478, train accuracy: 55.189 %, val accuracy: 26.923 %\n"
     ]
    },
    {
     "name": "stderr",
     "output_type": "stream",
     "text": [
      "\r",
      " 87%|███████████████████████████████████████████████████████████████████████           | 26/30 [03:20<00:30,  7.71s/it]"
     ]
    },
    {
     "name": "stdout",
     "output_type": "stream",
     "text": [
      "Epoch [26], epoch time: 7.684 s, train loss: 0.322, val loss: 0.486, train accuracy: 49.528 %, val accuracy: 65.385 %\n"
     ]
    },
    {
     "name": "stderr",
     "output_type": "stream",
     "text": [
      "\r",
      " 90%|█████████████████████████████████████████████████████████████████████████▊        | 27/30 [03:28<00:23,  7.74s/it]"
     ]
    },
    {
     "name": "stdout",
     "output_type": "stream",
     "text": [
      "Epoch [27], epoch time: 7.801 s, train loss: 0.235, val loss: 1.609, train accuracy: 56.132 %, val accuracy: 38.462 %\n"
     ]
    },
    {
     "name": "stderr",
     "output_type": "stream",
     "text": [
      "\r",
      " 93%|████████████████████████████████████████████████████████████████████████████▌     | 28/30 [03:37<00:15,  7.97s/it]"
     ]
    },
    {
     "name": "stdout",
     "output_type": "stream",
     "text": [
      "Epoch [28], epoch time: 8.526 s, train loss: 0.643, val loss: 0.569, train accuracy: 49.528 %, val accuracy: 19.231 %\n"
     ]
    },
    {
     "name": "stderr",
     "output_type": "stream",
     "text": [
      "\r",
      " 97%|███████████████████████████████████████████████████████████████████████████████▎  | 29/30 [03:44<00:07,  7.85s/it]"
     ]
    },
    {
     "name": "stdout",
     "output_type": "stream",
     "text": [
      "Epoch [29], epoch time: 7.558 s, train loss: 0.571, val loss: 0.511, train accuracy: 56.604 %, val accuracy: 42.308 %\n"
     ]
    },
    {
     "name": "stderr",
     "output_type": "stream",
     "text": [
      "100%|██████████████████████████████████████████████████████████████████████████████████| 30/30 [03:52<00:00,  7.74s/it]\n"
     ]
    },
    {
     "name": "stdout",
     "output_type": "stream",
     "text": [
      "Epoch [30], epoch time: 7.383 s, train loss: 0.423, val loss: 0.579, train accuracy: 51.887 %, val accuracy: 38.462 %\n",
      "Time [232.111] seconds or [3.869] minutes\n"
     ]
    },
    {
     "name": "stderr",
     "output_type": "stream",
     "text": [
      "  3%|██▊                                                                                | 1/30 [00:08<04:18,  8.92s/it]"
     ]
    },
    {
     "name": "stdout",
     "output_type": "stream",
     "text": [
      "Epoch [1], epoch time: 8.919 s, train loss: 0.671, val loss: 0.699, train accuracy: 49.528 %, val accuracy: 53.846 %\n"
     ]
    },
    {
     "name": "stderr",
     "output_type": "stream",
     "text": [
      "\r",
      "  7%|█████▌                                                                             | 2/30 [00:17<04:06,  8.80s/it]"
     ]
    },
    {
     "name": "stdout",
     "output_type": "stream",
     "text": [
      "Epoch [2], epoch time: 8.720 s, train loss: 0.555, val loss: 0.638, train accuracy: 44.340 %, val accuracy: 38.462 %\n"
     ]
    },
    {
     "name": "stderr",
     "output_type": "stream",
     "text": [
      "\r",
      " 10%|████████▎                                                                          | 3/30 [00:26<04:00,  8.90s/it]"
     ]
    },
    {
     "name": "stdout",
     "output_type": "stream",
     "text": [
      "Epoch [3], epoch time: 9.020 s, train loss: 0.464, val loss: 0.709, train accuracy: 44.811 %, val accuracy: 19.231 %\n"
     ]
    },
    {
     "name": "stderr",
     "output_type": "stream",
     "text": [
      "\r",
      " 13%|███████████                                                                        | 4/30 [00:35<03:49,  8.84s/it]"
     ]
    },
    {
     "name": "stdout",
     "output_type": "stream",
     "text": [
      "Epoch [4], epoch time: 8.740 s, train loss: 0.457, val loss: 0.802, train accuracy: 46.698 %, val accuracy: 57.692 %\n"
     ]
    },
    {
     "name": "stderr",
     "output_type": "stream",
     "text": [
      "\r",
      " 17%|█████████████▊                                                                     | 5/30 [00:44<03:39,  8.79s/it]"
     ]
    },
    {
     "name": "stdout",
     "output_type": "stream",
     "text": [
      "Epoch [5], epoch time: 8.704 s, train loss: 0.377, val loss: 0.743, train accuracy: 53.302 %, val accuracy: 46.154 %\n"
     ]
    },
    {
     "name": "stderr",
     "output_type": "stream",
     "text": [
      "\r",
      " 20%|████████████████▌                                                                  | 6/30 [00:52<03:31,  8.79s/it]"
     ]
    },
    {
     "name": "stdout",
     "output_type": "stream",
     "text": [
      "Epoch [6], epoch time: 8.800 s, train loss: 0.473, val loss: 0.685, train accuracy: 46.698 %, val accuracy: 46.154 %\n"
     ]
    },
    {
     "name": "stderr",
     "output_type": "stream",
     "text": [
      "\r",
      " 23%|███████████████████▎                                                               | 7/30 [01:01<03:22,  8.82s/it]"
     ]
    },
    {
     "name": "stdout",
     "output_type": "stream",
     "text": [
      "Epoch [7], epoch time: 8.876 s, train loss: 0.351, val loss: 0.929, train accuracy: 48.585 %, val accuracy: 46.154 %\n"
     ]
    },
    {
     "name": "stderr",
     "output_type": "stream",
     "text": [
      "\r",
      " 27%|██████████████████████▏                                                            | 8/30 [01:10<03:14,  8.83s/it]"
     ]
    },
    {
     "name": "stdout",
     "output_type": "stream",
     "text": [
      "Epoch [8], epoch time: 8.855 s, train loss: 0.394, val loss: 0.654, train accuracy: 46.698 %, val accuracy: 34.615 %\n"
     ]
    },
    {
     "name": "stderr",
     "output_type": "stream",
     "text": [
      "\r",
      " 30%|████████████████████████▉                                                          | 9/30 [01:19<03:06,  8.86s/it]"
     ]
    },
    {
     "name": "stdout",
     "output_type": "stream",
     "text": [
      "Epoch [9], epoch time: 8.936 s, train loss: 0.392, val loss: 0.673, train accuracy: 44.811 %, val accuracy: 53.846 %\n"
     ]
    },
    {
     "name": "stderr",
     "output_type": "stream",
     "text": [
      "\r",
      " 33%|███████████████████████████▎                                                      | 10/30 [01:28<02:56,  8.85s/it]"
     ]
    },
    {
     "name": "stdout",
     "output_type": "stream",
     "text": [
      "Epoch [10], epoch time: 8.810 s, train loss: 0.304, val loss: 0.797, train accuracy: 52.358 %, val accuracy: 57.692 %\n"
     ]
    },
    {
     "name": "stderr",
     "output_type": "stream",
     "text": [
      "\r",
      " 37%|██████████████████████████████                                                    | 11/30 [01:37<02:52,  9.07s/it]"
     ]
    },
    {
     "name": "stdout",
     "output_type": "stream",
     "text": [
      "Epoch [11], epoch time: 9.574 s, train loss: 0.379, val loss: 1.022, train accuracy: 50.000 %, val accuracy: 46.154 %\n"
     ]
    },
    {
     "name": "stderr",
     "output_type": "stream",
     "text": [
      "\r",
      " 40%|████████████████████████████████▊                                                 | 12/30 [01:47<02:44,  9.13s/it]"
     ]
    },
    {
     "name": "stdout",
     "output_type": "stream",
     "text": [
      "Epoch [12], epoch time: 9.267 s, train loss: 0.313, val loss: 0.796, train accuracy: 49.528 %, val accuracy: 46.154 %\n"
     ]
    },
    {
     "name": "stderr",
     "output_type": "stream",
     "text": [
      "\r",
      " 43%|███████████████████████████████████▌                                              | 13/30 [01:56<02:35,  9.16s/it]"
     ]
    },
    {
     "name": "stdout",
     "output_type": "stream",
     "text": [
      "Epoch [13], epoch time: 9.218 s, train loss: 0.380, val loss: 0.983, train accuracy: 51.415 %, val accuracy: 61.538 %\n"
     ]
    },
    {
     "name": "stderr",
     "output_type": "stream",
     "text": [
      "\r",
      " 47%|██████████████████████████████████████▎                                           | 14/30 [02:05<02:25,  9.06s/it]"
     ]
    },
    {
     "name": "stdout",
     "output_type": "stream",
     "text": [
      "Epoch [14], epoch time: 8.848 s, train loss: 0.291, val loss: 0.817, train accuracy: 49.057 %, val accuracy: 53.846 %\n"
     ]
    },
    {
     "name": "stderr",
     "output_type": "stream",
     "text": [
      "\r",
      " 50%|█████████████████████████████████████████                                         | 15/30 [02:14<02:17,  9.15s/it]"
     ]
    },
    {
     "name": "stdout",
     "output_type": "stream",
     "text": [
      "Epoch [15], epoch time: 9.358 s, train loss: 0.353, val loss: 0.548, train accuracy: 48.113 %, val accuracy: 57.692 %\n"
     ]
    },
    {
     "name": "stderr",
     "output_type": "stream",
     "text": [
      "\r",
      " 53%|███████████████████████████████████████████▋                                      | 16/30 [02:23<02:06,  9.07s/it]"
     ]
    },
    {
     "name": "stdout",
     "output_type": "stream",
     "text": [
      "Epoch [16], epoch time: 8.878 s, train loss: 0.328, val loss: 0.671, train accuracy: 50.472 %, val accuracy: 50.000 %\n"
     ]
    },
    {
     "name": "stderr",
     "output_type": "stream",
     "text": [
      "\r",
      " 57%|██████████████████████████████████████████████▍                                   | 17/30 [02:32<01:56,  8.98s/it]"
     ]
    },
    {
     "name": "stdout",
     "output_type": "stream",
     "text": [
      "Epoch [17], epoch time: 8.763 s, train loss: 0.291, val loss: 0.604, train accuracy: 50.000 %, val accuracy: 46.154 %\n"
     ]
    },
    {
     "name": "stderr",
     "output_type": "stream",
     "text": [
      "\r",
      " 60%|█████████████████████████████████████████████████▏                                | 18/30 [02:41<01:47,  8.97s/it]"
     ]
    },
    {
     "name": "stdout",
     "output_type": "stream",
     "text": [
      "Epoch [18], epoch time: 8.942 s, train loss: 0.275, val loss: 0.972, train accuracy: 47.170 %, val accuracy: 61.538 %\n"
     ]
    },
    {
     "name": "stderr",
     "output_type": "stream",
     "text": [
      "\r",
      " 63%|███████████████████████████████████████████████████▉                              | 19/30 [02:49<01:37,  8.90s/it]"
     ]
    },
    {
     "name": "stdout",
     "output_type": "stream",
     "text": [
      "Epoch [19], epoch time: 8.735 s, train loss: 0.209, val loss: 0.613, train accuracy: 43.396 %, val accuracy: 42.308 %\n"
     ]
    },
    {
     "name": "stderr",
     "output_type": "stream",
     "text": [
      "\r",
      " 67%|██████████████████████████████████████████████████████▋                           | 20/30 [02:58<01:28,  8.88s/it]"
     ]
    },
    {
     "name": "stdout",
     "output_type": "stream",
     "text": [
      "Epoch [20], epoch time: 8.850 s, train loss: 0.193, val loss: 0.604, train accuracy: 49.057 %, val accuracy: 53.846 %\n"
     ]
    },
    {
     "name": "stderr",
     "output_type": "stream",
     "text": [
      "\r",
      " 70%|█████████████████████████████████████████████████████████▍                        | 21/30 [03:07<01:20,  8.92s/it]"
     ]
    },
    {
     "name": "stdout",
     "output_type": "stream",
     "text": [
      "Epoch [21], epoch time: 9.018 s, train loss: 0.333, val loss: 0.727, train accuracy: 43.396 %, val accuracy: 42.308 %\n"
     ]
    },
    {
     "name": "stderr",
     "output_type": "stream",
     "text": [
      "\r",
      " 73%|████████████████████████████████████████████████████████████▏                     | 22/30 [03:16<01:11,  8.98s/it]"
     ]
    },
    {
     "name": "stdout",
     "output_type": "stream",
     "text": [
      "Epoch [22], epoch time: 9.110 s, train loss: 0.251, val loss: 0.911, train accuracy: 50.943 %, val accuracy: 30.769 %\n"
     ]
    },
    {
     "name": "stderr",
     "output_type": "stream",
     "text": [
      "\r",
      " 77%|██████████████████████████████████████████████████████████████▊                   | 23/30 [03:25<01:02,  8.99s/it]"
     ]
    },
    {
     "name": "stdout",
     "output_type": "stream",
     "text": [
      "Epoch [23], epoch time: 9.004 s, train loss: 0.251, val loss: 1.264, train accuracy: 45.283 %, val accuracy: 53.846 %\n"
     ]
    },
    {
     "name": "stderr",
     "output_type": "stream",
     "text": [
      "\r",
      " 80%|█████████████████████████████████████████████████████████████████▌                | 24/30 [03:34<00:53,  8.93s/it]"
     ]
    },
    {
     "name": "stdout",
     "output_type": "stream",
     "text": [
      "Epoch [24], epoch time: 8.792 s, train loss: 0.215, val loss: 1.021, train accuracy: 46.698 %, val accuracy: 34.615 %\n"
     ]
    },
    {
     "name": "stderr",
     "output_type": "stream",
     "text": [
      "\r",
      " 83%|████████████████████████████████████████████████████████████████████▎             | 25/30 [03:43<00:44,  8.88s/it]"
     ]
    },
    {
     "name": "stdout",
     "output_type": "stream",
     "text": [
      "Epoch [25], epoch time: 8.756 s, train loss: 0.259, val loss: 1.266, train accuracy: 48.113 %, val accuracy: 38.462 %\n"
     ]
    },
    {
     "name": "stderr",
     "output_type": "stream",
     "text": [
      "\r",
      " 87%|███████████████████████████████████████████████████████████████████████           | 26/30 [03:52<00:35,  8.80s/it]"
     ]
    },
    {
     "name": "stdout",
     "output_type": "stream",
     "text": [
      "Epoch [26], epoch time: 8.615 s, train loss: 0.226, val loss: 0.885, train accuracy: 52.830 %, val accuracy: 46.154 %\n"
     ]
    },
    {
     "name": "stderr",
     "output_type": "stream",
     "text": [
      "\r",
      " 90%|█████████████████████████████████████████████████████████████████████████▊        | 27/30 [04:01<00:26,  8.86s/it]"
     ]
    },
    {
     "name": "stdout",
     "output_type": "stream",
     "text": [
      "Epoch [27], epoch time: 8.999 s, train loss: 0.253, val loss: 0.885, train accuracy: 47.642 %, val accuracy: 34.615 %\n"
     ]
    },
    {
     "name": "stderr",
     "output_type": "stream",
     "text": [
      "\r",
      " 93%|████████████████████████████████████████████████████████████████████████████▌     | 28/30 [04:09<00:17,  8.81s/it]"
     ]
    },
    {
     "name": "stdout",
     "output_type": "stream",
     "text": [
      "Epoch [28], epoch time: 8.681 s, train loss: 0.228, val loss: 0.787, train accuracy: 51.887 %, val accuracy: 38.462 %\n"
     ]
    },
    {
     "name": "stderr",
     "output_type": "stream",
     "text": [
      "\r",
      " 97%|███████████████████████████████████████████████████████████████████████████████▎  | 29/30 [04:18<00:08,  8.75s/it]"
     ]
    },
    {
     "name": "stdout",
     "output_type": "stream",
     "text": [
      "Epoch [29], epoch time: 8.621 s, train loss: 0.262, val loss: 0.968, train accuracy: 54.717 %, val accuracy: 42.308 %\n"
     ]
    },
    {
     "name": "stderr",
     "output_type": "stream",
     "text": [
      "100%|██████████████████████████████████████████████████████████████████████████████████| 30/30 [04:27<00:00,  8.91s/it]\n"
     ]
    },
    {
     "name": "stdout",
     "output_type": "stream",
     "text": [
      "Epoch [30], epoch time: 8.739 s, train loss: 0.220, val loss: 0.727, train accuracy: 51.415 %, val accuracy: 42.308 %\n",
      "Time [267.181] seconds or [4.453] minutes\n"
     ]
    },
    {
     "name": "stderr",
     "output_type": "stream",
     "text": [
      "  3%|██▊                                                                                | 1/30 [00:08<04:11,  8.67s/it]"
     ]
    },
    {
     "name": "stdout",
     "output_type": "stream",
     "text": [
      "Epoch [1], epoch time: 8.671 s, train loss: 0.534, val loss: 0.683, train accuracy: 142.925 %, val accuracy: 465.385 %\n"
     ]
    },
    {
     "name": "stderr",
     "output_type": "stream",
     "text": [
      "\r",
      "  7%|█████▌                                                                             | 2/30 [00:17<04:00,  8.60s/it]"
     ]
    },
    {
     "name": "stdout",
     "output_type": "stream",
     "text": [
      "Epoch [2], epoch time: 8.548 s, train loss: 0.510, val loss: 0.730, train accuracy: 141.509 %, val accuracy: 403.846 %\n"
     ]
    },
    {
     "name": "stderr",
     "output_type": "stream",
     "text": [
      "\r",
      " 10%|████████▎                                                                          | 3/30 [00:25<03:50,  8.54s/it]"
     ]
    },
    {
     "name": "stdout",
     "output_type": "stream",
     "text": [
      "Epoch [3], epoch time: 8.476 s, train loss: 0.461, val loss: 0.601, train accuracy: 159.906 %, val accuracy: 380.769 %\n"
     ]
    },
    {
     "name": "stderr",
     "output_type": "stream",
     "text": [
      "\r",
      " 13%|███████████                                                                        | 4/30 [00:34<03:44,  8.64s/it]"
     ]
    },
    {
     "name": "stdout",
     "output_type": "stream",
     "text": [
      "Epoch [4], epoch time: 8.786 s, train loss: 0.443, val loss: 0.444, train accuracy: 157.075 %, val accuracy: 434.615 %\n"
     ]
    },
    {
     "name": "stderr",
     "output_type": "stream",
     "text": [
      "\r",
      " 17%|█████████████▊                                                                     | 5/30 [00:43<03:35,  8.63s/it]"
     ]
    },
    {
     "name": "stdout",
     "output_type": "stream",
     "text": [
      "Epoch [5], epoch time: 8.618 s, train loss: 0.464, val loss: 0.755, train accuracy: 166.981 %, val accuracy: 438.462 %\n"
     ]
    },
    {
     "name": "stderr",
     "output_type": "stream",
     "text": [
      "\r",
      " 20%|████████████████▌                                                                  | 6/30 [00:51<03:26,  8.59s/it]"
     ]
    },
    {
     "name": "stdout",
     "output_type": "stream",
     "text": [
      "Epoch [6], epoch time: 8.506 s, train loss: 0.426, val loss: 0.941, train accuracy: 142.925 %, val accuracy: 388.462 %\n"
     ]
    },
    {
     "name": "stderr",
     "output_type": "stream",
     "text": [
      "\r",
      " 23%|███████████████████▎                                                               | 7/30 [01:00<03:17,  8.57s/it]"
     ]
    },
    {
     "name": "stdout",
     "output_type": "stream",
     "text": [
      "Epoch [7], epoch time: 8.533 s, train loss: 0.422, val loss: 0.696, train accuracy: 140.094 %, val accuracy: 369.231 %\n"
     ]
    },
    {
     "name": "stderr",
     "output_type": "stream",
     "text": [
      "\r",
      " 27%|██████████████████████▏                                                            | 8/30 [01:08<03:10,  8.65s/it]"
     ]
    },
    {
     "name": "stdout",
     "output_type": "stream",
     "text": [
      "Epoch [8], epoch time: 8.833 s, train loss: 0.433, val loss: 0.587, train accuracy: 150.000 %, val accuracy: 403.846 %\n"
     ]
    },
    {
     "name": "stderr",
     "output_type": "stream",
     "text": [
      "\r",
      " 30%|████████████████████████▉                                                          | 9/30 [01:17<03:02,  8.70s/it]"
     ]
    },
    {
     "name": "stdout",
     "output_type": "stream",
     "text": [
      "Epoch [9], epoch time: 8.792 s, train loss: 0.442, val loss: 0.791, train accuracy: 154.245 %, val accuracy: 473.077 %\n"
     ]
    },
    {
     "name": "stderr",
     "output_type": "stream",
     "text": [
      "\r",
      " 33%|███████████████████████████▎                                                      | 10/30 [01:26<02:52,  8.63s/it]"
     ]
    },
    {
     "name": "stdout",
     "output_type": "stream",
     "text": [
      "Epoch [10], epoch time: 8.462 s, train loss: 0.358, val loss: 0.569, train accuracy: 157.075 %, val accuracy: 423.077 %\n"
     ]
    },
    {
     "name": "stderr",
     "output_type": "stream",
     "text": [
      "\r",
      " 37%|██████████████████████████████                                                    | 11/30 [01:34<02:43,  8.61s/it]"
     ]
    },
    {
     "name": "stdout",
     "output_type": "stream",
     "text": [
      "Epoch [11], epoch time: 8.590 s, train loss: 0.338, val loss: 0.756, train accuracy: 154.245 %, val accuracy: 392.308 %\n"
     ]
    },
    {
     "name": "stderr",
     "output_type": "stream",
     "text": [
      "\r",
      " 40%|████████████████████████████████▊                                                 | 12/30 [01:43<02:35,  8.66s/it]"
     ]
    },
    {
     "name": "stdout",
     "output_type": "stream",
     "text": [
      "Epoch [12], epoch time: 8.750 s, train loss: 0.376, val loss: 0.788, train accuracy: 154.245 %, val accuracy: 426.923 %\n"
     ]
    },
    {
     "name": "stderr",
     "output_type": "stream",
     "text": [
      "\r",
      " 43%|███████████████████████████████████▌                                              | 13/30 [01:52<02:27,  8.70s/it]"
     ]
    },
    {
     "name": "stdout",
     "output_type": "stream",
     "text": [
      "Epoch [13], epoch time: 8.796 s, train loss: 0.408, val loss: 0.765, train accuracy: 151.415 %, val accuracy: 446.154 %\n"
     ]
    },
    {
     "name": "stderr",
     "output_type": "stream",
     "text": [
      "\r",
      " 47%|██████████████████████████████████████▎                                           | 14/30 [02:01<02:19,  8.73s/it]"
     ]
    },
    {
     "name": "stdout",
     "output_type": "stream",
     "text": [
      "Epoch [14], epoch time: 8.788 s, train loss: 0.318, val loss: 1.138, train accuracy: 155.660 %, val accuracy: 426.923 %\n"
     ]
    },
    {
     "name": "stderr",
     "output_type": "stream",
     "text": [
      "\r",
      " 50%|█████████████████████████████████████████                                         | 15/30 [02:09<02:10,  8.67s/it]"
     ]
    },
    {
     "name": "stdout",
     "output_type": "stream",
     "text": [
      "Epoch [15], epoch time: 8.552 s, train loss: 0.462, val loss: 0.651, train accuracy: 155.660 %, val accuracy: 400.000 %\n"
     ]
    },
    {
     "name": "stderr",
     "output_type": "stream",
     "text": [
      "\r",
      " 53%|███████████████████████████████████████████▋                                      | 16/30 [02:18<02:01,  8.65s/it]"
     ]
    },
    {
     "name": "stdout",
     "output_type": "stream",
     "text": [
      "Epoch [16], epoch time: 8.586 s, train loss: 0.323, val loss: 0.635, train accuracy: 135.849 %, val accuracy: 450.000 %\n"
     ]
    },
    {
     "name": "stderr",
     "output_type": "stream",
     "text": [
      "\r",
      " 57%|██████████████████████████████████████████████▍                                   | 17/30 [02:26<01:51,  8.59s/it]"
     ]
    },
    {
     "name": "stdout",
     "output_type": "stream",
     "text": [
      "Epoch [17], epoch time: 8.439 s, train loss: 0.359, val loss: 0.909, train accuracy: 144.340 %, val accuracy: 353.846 %\n"
     ]
    },
    {
     "name": "stderr",
     "output_type": "stream",
     "text": [
      "\r",
      " 60%|█████████████████████████████████████████████████▏                                | 18/30 [02:35<01:42,  8.56s/it]"
     ]
    },
    {
     "name": "stdout",
     "output_type": "stream",
     "text": [
      "Epoch [18], epoch time: 8.499 s, train loss: 0.344, val loss: 0.668, train accuracy: 161.321 %, val accuracy: 411.538 %\n"
     ]
    },
    {
     "name": "stderr",
     "output_type": "stream",
     "text": [
      "\r",
      " 63%|███████████████████████████████████████████████████▉                              | 19/30 [02:43<01:34,  8.58s/it]"
     ]
    },
    {
     "name": "stdout",
     "output_type": "stream",
     "text": [
      "Epoch [19], epoch time: 8.621 s, train loss: 0.250, val loss: 0.485, train accuracy: 159.906 %, val accuracy: 373.077 %\n"
     ]
    },
    {
     "name": "stderr",
     "output_type": "stream",
     "text": [
      "\r",
      " 67%|██████████████████████████████████████████████████████▋                           | 20/30 [02:52<01:25,  8.55s/it]"
     ]
    },
    {
     "name": "stdout",
     "output_type": "stream",
     "text": [
      "Epoch [20], epoch time: 8.473 s, train loss: 0.315, val loss: 0.893, train accuracy: 154.245 %, val accuracy: 434.615 %\n"
     ]
    },
    {
     "name": "stderr",
     "output_type": "stream",
     "text": [
      "\r",
      " 70%|█████████████████████████████████████████████████████████▍                        | 21/30 [03:00<01:17,  8.56s/it]"
     ]
    },
    {
     "name": "stdout",
     "output_type": "stream",
     "text": [
      "Epoch [21], epoch time: 8.605 s, train loss: 0.344, val loss: 0.388, train accuracy: 169.811 %, val accuracy: 442.308 %\n"
     ]
    },
    {
     "name": "stderr",
     "output_type": "stream",
     "text": [
      "\r",
      " 73%|████████████████████████████████████████████████████████████▏                     | 22/30 [03:09<01:08,  8.56s/it]"
     ]
    },
    {
     "name": "stdout",
     "output_type": "stream",
     "text": [
      "Epoch [22], epoch time: 8.559 s, train loss: 0.316, val loss: 0.628, train accuracy: 147.170 %, val accuracy: 484.615 %\n"
     ]
    },
    {
     "name": "stderr",
     "output_type": "stream",
     "text": [
      "\r",
      " 77%|██████████████████████████████████████████████████████████████▊                   | 23/30 [03:18<01:00,  8.61s/it]"
     ]
    },
    {
     "name": "stdout",
     "output_type": "stream",
     "text": [
      "Epoch [23], epoch time: 8.710 s, train loss: 0.327, val loss: 0.678, train accuracy: 138.679 %, val accuracy: 500.000 %\n"
     ]
    },
    {
     "name": "stderr",
     "output_type": "stream",
     "text": [
      "\r",
      " 80%|█████████████████████████████████████████████████████████████████▌                | 24/30 [03:26<00:51,  8.61s/it]"
     ]
    },
    {
     "name": "stdout",
     "output_type": "stream",
     "text": [
      "Epoch [24], epoch time: 8.627 s, train loss: 0.270, val loss: 0.762, train accuracy: 130.189 %, val accuracy: 403.846 %\n"
     ]
    },
    {
     "name": "stderr",
     "output_type": "stream",
     "text": [
      "\r",
      " 83%|████████████████████████████████████████████████████████████████████▎             | 25/30 [03:35<00:43,  8.64s/it]"
     ]
    },
    {
     "name": "stdout",
     "output_type": "stream",
     "text": [
      "Epoch [25], epoch time: 8.700 s, train loss: 0.313, val loss: 0.737, train accuracy: 151.415 %, val accuracy: 453.846 %\n"
     ]
    },
    {
     "name": "stderr",
     "output_type": "stream",
     "text": [
      "\r",
      " 87%|███████████████████████████████████████████████████████████████████████           | 26/30 [03:44<00:34,  8.72s/it]"
     ]
    },
    {
     "name": "stdout",
     "output_type": "stream",
     "text": [
      "Epoch [26], epoch time: 8.903 s, train loss: 0.286, val loss: 0.707, train accuracy: 185.377 %, val accuracy: 484.615 %\n"
     ]
    },
    {
     "name": "stderr",
     "output_type": "stream",
     "text": [
      "\r",
      " 90%|█████████████████████████████████████████████████████████████████████████▊        | 27/30 [03:53<00:26,  8.88s/it]"
     ]
    },
    {
     "name": "stdout",
     "output_type": "stream",
     "text": [
      "Epoch [27], epoch time: 9.258 s, train loss: 0.284, val loss: 0.904, train accuracy: 140.094 %, val accuracy: 488.462 %\n"
     ]
    },
    {
     "name": "stderr",
     "output_type": "stream",
     "text": [
      "\r",
      " 93%|████████████████████████████████████████████████████████████████████████████▌     | 28/30 [04:02<00:17,  8.93s/it]"
     ]
    },
    {
     "name": "stdout",
     "output_type": "stream",
     "text": [
      "Epoch [28], epoch time: 9.054 s, train loss: 0.197, val loss: 0.766, train accuracy: 154.245 %, val accuracy: 430.769 %\n"
     ]
    },
    {
     "name": "stderr",
     "output_type": "stream",
     "text": [
      "\r",
      " 97%|███████████████████████████████████████████████████████████████████████████████▎  | 29/30 [04:11<00:08,  8.93s/it]"
     ]
    },
    {
     "name": "stdout",
     "output_type": "stream",
     "text": [
      "Epoch [29], epoch time: 8.920 s, train loss: 0.297, val loss: 1.272, train accuracy: 158.491 %, val accuracy: 396.154 %\n"
     ]
    }
   ],
   "source": [
    "BcelAdam.BcelAdam(0.0001, 'C:\\dataset2')\n",
    "BcelSgd.BcelSGD(0.0001, 'C:\\dataset2')\n",
    "CelAdam.CelAdam(0.0001, 'C:\\dataset2')\n",
    "CelSgd.CelSgd(0.0001, 'C:\\dataset2')"
   ]
  },
  {
   "cell_type": "markdown",
   "id": "0fa63eb6",
   "metadata": {},
   "source": [
    "## 0.001"
   ]
  },
  {
   "cell_type": "code",
   "execution_count": null,
   "id": "824769a8",
   "metadata": {},
   "outputs": [],
   "source": [
    "BcelAdam.BcelAdam(0.001, 'C:\\dataset2')\n",
    "BcelSgd.BcelSGD(0.001, 'C:\\dataset2')\n",
    "CelAdam.CelAdam(0.001, 'C:\\dataset2')\n",
    "CelSgd.CelSgd(0.001, 'C:\\dataset2')"
   ]
  },
  {
   "cell_type": "markdown",
   "id": "f0264163",
   "metadata": {},
   "source": [
    "## 0.01"
   ]
  },
  {
   "cell_type": "code",
   "execution_count": null,
   "id": "7b26aafd",
   "metadata": {},
   "outputs": [],
   "source": [
    "BcelAdam.BcelAdam(0.01, 'C:\\dataset2')\n",
    "BcelSgd.BcelSGD(0.01, 'C:\\dataset2')\n",
    "CelAdam.CelAdam(0.01, 'C:\\dataset2')\n",
    "CelSgd.CelSgd(0.01, 'C:\\dataset2')"
   ]
  },
  {
   "cell_type": "markdown",
   "id": "a73ac75c",
   "metadata": {},
   "source": [
    "# BreakHis"
   ]
  },
  {
   "cell_type": "markdown",
   "id": "736aa0db",
   "metadata": {},
   "source": [
    "## 0.0001"
   ]
  },
  {
   "cell_type": "code",
   "execution_count": null,
   "id": "e6072562",
   "metadata": {
    "scrolled": false
   },
   "outputs": [],
   "source": [
    "BcelAdam.BcelAdam(0.0001, 'C:\\dataset')\n",
    "BcelSgd.BcelSGD(0.0001, 'C:\\dataset')\n",
    "CelAdam.CelAdam(0.0001, 'C:\\dataset')\n",
    "CelSgd.CelSgd(0.0001, 'C:\\dataset')"
   ]
  },
  {
   "cell_type": "markdown",
   "id": "627de982",
   "metadata": {},
   "source": [
    "## 0.001"
   ]
  },
  {
   "cell_type": "code",
   "execution_count": null,
   "id": "2a4f8aa4",
   "metadata": {},
   "outputs": [],
   "source": [
    "BcelAdam.BcelAdam(0.001, 'C:\\dataset')\n",
    "BcelSgd.BcelSGD(0.001, 'C:\\dataset')\n",
    "CelAdam.CelAdam(0.001, 'C:\\dataset')\n",
    "CelSgd.CelSgd(0.001, 'C:\\dataset')"
   ]
  },
  {
   "cell_type": "markdown",
   "id": "b9cea614",
   "metadata": {},
   "source": [
    "## 0.01"
   ]
  },
  {
   "cell_type": "code",
   "execution_count": null,
   "id": "8513c521",
   "metadata": {},
   "outputs": [],
   "source": [
    "BcelAdam.BcelAdam(0.01, 'C:\\dataset')\n",
    "BcelSgd.BcelSGD(0.01, 'C:\\dataset')\n",
    "CelAdam.CelAdam(0.01, 'C:\\dataset')\n",
    "CelSgd.CelSgd(0.01, 'C:\\dataset')"
   ]
  }
 ],
 "metadata": {
  "kernelspec": {
   "display_name": "Python 3 (ipykernel)",
   "language": "python",
   "name": "python3"
  },
  "language_info": {
   "codemirror_mode": {
    "name": "ipython",
    "version": 3
   },
   "file_extension": ".py",
   "mimetype": "text/x-python",
   "name": "python",
   "nbconvert_exporter": "python",
   "pygments_lexer": "ipython3",
   "version": "3.8.16"
  }
 },
 "nbformat": 4,
 "nbformat_minor": 5
}
