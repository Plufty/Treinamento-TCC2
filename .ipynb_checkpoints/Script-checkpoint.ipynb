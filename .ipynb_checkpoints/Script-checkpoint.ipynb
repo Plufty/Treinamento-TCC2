{
 "cells": [
  {
   "cell_type": "code",
   "execution_count": null,
   "id": "fddaac74",
   "metadata": {},
   "outputs": [],
   "source": [
    "import os\n",
    "import torch\n",
    "import torchvision\n",
    "import time\n",
    "from torch import nn, optim\n",
    "from torchvision import datasets, transforms, models\n",
    "from tqdm import tqdm\n",
    "from efficientnet_pytorch import EfficientNet\n",
    "\n",
    "#Importando meus Scripts\n",
    "import BcelAdam\n",
    "import BcelSgd\n",
    "import CelAdam\n",
    "import CelSgd"
   ]
  },
  {
   "cell_type": "markdown",
   "id": "a73ac75c",
   "metadata": {},
   "source": [
    "# BreakHis"
   ]
  },
  {
   "cell_type": "markdown",
   "id": "736aa0db",
   "metadata": {},
   "source": [
    "## 0.0001"
   ]
  },
  {
   "cell_type": "code",
   "execution_count": null,
   "id": "e6072562",
   "metadata": {
    "scrolled": false
   },
   "outputs": [],
   "source": [
    "BcelAdam.BcelAdam(0.0001, 'C:\\dataset')\n",
    "BcelSgd.BcelSGD(0.0001, 'C:\\dataset')\n",
    "CelAdam.CelAdam(0.0001, 'C:\\dataset')\n",
    "CelSgd.CelSgd(0.0001, 'C:\\dataset')"
   ]
  },
  {
   "cell_type": "markdown",
   "id": "627de982",
   "metadata": {},
   "source": [
    "## 0.001"
   ]
  },
  {
   "cell_type": "code",
   "execution_count": null,
   "id": "2a4f8aa4",
   "metadata": {},
   "outputs": [],
   "source": [
    "BcelAdam.BcelAdam(0.001, 'C:\\dataset')\n",
    "BcelSgd.BcelSGD(0.001, 'C:\\dataset')\n",
    "CelAdam.CelAdam(0.001, 'C:\\dataset')\n",
    "CelSgd.CelSgd(0.001, 'C:\\dataset')"
   ]
  },
  {
   "cell_type": "markdown",
   "id": "b9cea614",
   "metadata": {},
   "source": [
    "## 0.01"
   ]
  },
  {
   "cell_type": "code",
   "execution_count": null,
   "id": "8513c521",
   "metadata": {},
   "outputs": [],
   "source": [
    "BcelAdam.BcelAdam(0.01, 'C:\\dataset')\n",
    "BcelSgd.BcelSGD(0.01, 'C:\\dataset')\n",
    "CelAdam.CelAdam(0.01, 'C:\\dataset')\n",
    "CelSgd.CelSgd(0.01, 'C:\\dataset')"
   ]
  },
  {
   "cell_type": "markdown",
   "id": "5956964a",
   "metadata": {},
   "source": [
    "# Biglycan"
   ]
  },
  {
   "cell_type": "markdown",
   "id": "d60a19f6",
   "metadata": {},
   "source": [
    "## 0.0001"
   ]
  },
  {
   "cell_type": "code",
   "execution_count": null,
   "id": "56992a66",
   "metadata": {},
   "outputs": [],
   "source": [
    "BcelAdam.BcelAdam(0.0001, 'C:\\dataset2')\n",
    "BcelSgd.BcelSGD(0.0001, 'C:\\dataset2')\n",
    "CelAdam.CelAdam(0.0001, 'C:\\dataset2')\n",
    "CelSgd.CelSgd(0.0001, 'C:\\dataset2')"
   ]
  },
  {
   "cell_type": "markdown",
   "id": "ab26ca85",
   "metadata": {},
   "source": [
    "## 0.001"
   ]
  },
  {
   "cell_type": "code",
   "execution_count": null,
   "id": "d5f2ae7e",
   "metadata": {},
   "outputs": [],
   "source": [
    "BcelAdam.BcelAdam(0.001, 'C:\\dataset2')\n",
    "BcelSgd.BcelSGD(0.001, 'C:\\dataset2')\n",
    "CelAdam.CelAdam(0.001, 'C:\\dataset2')\n",
    "CelSgd.CelSgd(0.001, 'C:\\dataset2')"
   ]
  },
  {
   "cell_type": "markdown",
   "id": "333147dc",
   "metadata": {},
   "source": [
    "## 0.01"
   ]
  },
  {
   "cell_type": "code",
   "execution_count": null,
   "id": "ea794812",
   "metadata": {},
   "outputs": [],
   "source": [
    "BcelAdam.BcelAdam(0.01, 'C:\\dataset2')\n",
    "BcelSgd.BcelSGD(0.01, 'C:\\dataset2')\n",
    "CelAdam.CelAdam(0.01, 'C:\\dataset2')\n",
    "CelSgd.CelSgd(0.01, 'C:\\dataset2')"
   ]
  }
 ],
 "metadata": {
  "kernelspec": {
   "display_name": "Python 3 (ipykernel)",
   "language": "python",
   "name": "python3"
  },
  "language_info": {
   "codemirror_mode": {
    "name": "ipython",
    "version": 3
   },
   "file_extension": ".py",
   "mimetype": "text/x-python",
   "name": "python",
   "nbconvert_exporter": "python",
   "pygments_lexer": "ipython3",
   "version": "3.8.16"
  }
 },
 "nbformat": 4,
 "nbformat_minor": 5
}
